{
 "cells": [
  {
   "cell_type": "markdown",
   "metadata": {},
   "source": [
    "By:\n",
    "Robert Bangiyev, Lester Kong, Kenny Xia, and Jiayao Zhou"
   ]
  },
  {
   "cell_type": "code",
   "execution_count": 1,
   "metadata": {
    "id": "7XKIUAfoUXId"
   },
   "outputs": [],
   "source": [
    "import scipy as sp\n",
    "import seaborn as sns\n",
    "import matplotlib.pyplot as plt\n",
    "import pandas as pd\n",
    "import numpy as np"
   ]
  },
  {
   "cell_type": "markdown",
   "metadata": {
    "id": "DlRnTTf87vwl"
   },
   "source": [
    "We found two datasets, [one](https://www.kaggle.com/gregorut/videogamesales) with fewer overall rows, but with more values in for features that counted, and [one](https://www.kaggle.com/ashaheedq/video-games-sales-2019) with a feature we found would help us with what we were trying to do."
   ]
  },
  {
   "cell_type": "code",
   "execution_count": 2,
   "metadata": {
    "colab": {
     "base_uri": "https://localhost:8080/",
     "height": 190
    },
    "id": "A3dMQhiP8JJ9",
    "outputId": "d63b3b2a-d1c0-4137-9612-b65c35da5dfe"
   },
   "outputs": [],
   "source": [
    "mainDSet = pd.read_csv('vgsales.csv')\n",
    "additionalDSet = pd.read_csv('vgsales-12-4-2019-short.csv')"
   ]
  },
  {
   "cell_type": "markdown",
   "metadata": {
    "id": "J0iNCKYz8k-o"
   },
   "source": [
    "First thing we did was to clean the additional dataset to make it easier to extract the Developer feature from it"
   ]
  },
  {
   "cell_type": "code",
   "execution_count": null,
   "metadata": {
    "id": "pEfD-01u8XFt"
   },
   "outputs": [],
   "source": [
    "additionalDSetAltered = additionalDSet[['Name', 'Developer', 'Platform', 'Year', 'Genre']]"
   ]
  },
  {
   "cell_type": "code",
   "execution_count": null,
   "metadata": {
    "colab": {
     "base_uri": "https://localhost:8080/",
     "height": 143
    },
    "id": "B1nZJzLS83MC",
    "outputId": "b8b7ab13-1b91-4042-ce4c-7000ada6af2c"
   },
   "outputs": [
    {
     "data": {
      "text/html": [
       "\n",
       "  <div id=\"df-47fa4810-b03c-46fb-a628-10325e60065a\">\n",
       "    <div class=\"colab-df-container\">\n",
       "      <div>\n",
       "<style scoped>\n",
       "    .dataframe tbody tr th:only-of-type {\n",
       "        vertical-align: middle;\n",
       "    }\n",
       "\n",
       "    .dataframe tbody tr th {\n",
       "        vertical-align: top;\n",
       "    }\n",
       "\n",
       "    .dataframe thead th {\n",
       "        text-align: right;\n",
       "    }\n",
       "</style>\n",
       "<table border=\"1\" class=\"dataframe\">\n",
       "  <thead>\n",
       "    <tr style=\"text-align: right;\">\n",
       "      <th></th>\n",
       "      <th>Name</th>\n",
       "      <th>Developer</th>\n",
       "      <th>Platform</th>\n",
       "      <th>Year</th>\n",
       "      <th>Genre</th>\n",
       "    </tr>\n",
       "  </thead>\n",
       "  <tbody>\n",
       "    <tr>\n",
       "      <th>0</th>\n",
       "      <td>Wii Sports</td>\n",
       "      <td>Nintendo EAD</td>\n",
       "      <td>Wii</td>\n",
       "      <td>2006.0</td>\n",
       "      <td>Sports</td>\n",
       "    </tr>\n",
       "    <tr>\n",
       "      <th>1</th>\n",
       "      <td>Super Mario Bros.</td>\n",
       "      <td>Nintendo EAD</td>\n",
       "      <td>NES</td>\n",
       "      <td>1985.0</td>\n",
       "      <td>Platform</td>\n",
       "    </tr>\n",
       "    <tr>\n",
       "      <th>2</th>\n",
       "      <td>Mario Kart Wii</td>\n",
       "      <td>Nintendo EAD</td>\n",
       "      <td>Wii</td>\n",
       "      <td>2008.0</td>\n",
       "      <td>Racing</td>\n",
       "    </tr>\n",
       "  </tbody>\n",
       "</table>\n",
       "</div>\n",
       "      <button class=\"colab-df-convert\" onclick=\"convertToInteractive('df-47fa4810-b03c-46fb-a628-10325e60065a')\"\n",
       "              title=\"Convert this dataframe to an interactive table.\"\n",
       "              style=\"display:none;\">\n",
       "        \n",
       "  <svg xmlns=\"http://www.w3.org/2000/svg\" height=\"24px\"viewBox=\"0 0 24 24\"\n",
       "       width=\"24px\">\n",
       "    <path d=\"M0 0h24v24H0V0z\" fill=\"none\"/>\n",
       "    <path d=\"M18.56 5.44l.94 2.06.94-2.06 2.06-.94-2.06-.94-.94-2.06-.94 2.06-2.06.94zm-11 1L8.5 8.5l.94-2.06 2.06-.94-2.06-.94L8.5 2.5l-.94 2.06-2.06.94zm10 10l.94 2.06.94-2.06 2.06-.94-2.06-.94-.94-2.06-.94 2.06-2.06.94z\"/><path d=\"M17.41 7.96l-1.37-1.37c-.4-.4-.92-.59-1.43-.59-.52 0-1.04.2-1.43.59L10.3 9.45l-7.72 7.72c-.78.78-.78 2.05 0 2.83L4 21.41c.39.39.9.59 1.41.59.51 0 1.02-.2 1.41-.59l7.78-7.78 2.81-2.81c.8-.78.8-2.07 0-2.86zM5.41 20L4 18.59l7.72-7.72 1.47 1.35L5.41 20z\"/>\n",
       "  </svg>\n",
       "      </button>\n",
       "      \n",
       "  <style>\n",
       "    .colab-df-container {\n",
       "      display:flex;\n",
       "      flex-wrap:wrap;\n",
       "      gap: 12px;\n",
       "    }\n",
       "\n",
       "    .colab-df-convert {\n",
       "      background-color: #E8F0FE;\n",
       "      border: none;\n",
       "      border-radius: 50%;\n",
       "      cursor: pointer;\n",
       "      display: none;\n",
       "      fill: #1967D2;\n",
       "      height: 32px;\n",
       "      padding: 0 0 0 0;\n",
       "      width: 32px;\n",
       "    }\n",
       "\n",
       "    .colab-df-convert:hover {\n",
       "      background-color: #E2EBFA;\n",
       "      box-shadow: 0px 1px 2px rgba(60, 64, 67, 0.3), 0px 1px 3px 1px rgba(60, 64, 67, 0.15);\n",
       "      fill: #174EA6;\n",
       "    }\n",
       "\n",
       "    [theme=dark] .colab-df-convert {\n",
       "      background-color: #3B4455;\n",
       "      fill: #D2E3FC;\n",
       "    }\n",
       "\n",
       "    [theme=dark] .colab-df-convert:hover {\n",
       "      background-color: #434B5C;\n",
       "      box-shadow: 0px 1px 3px 1px rgba(0, 0, 0, 0.15);\n",
       "      filter: drop-shadow(0px 1px 2px rgba(0, 0, 0, 0.3));\n",
       "      fill: #FFFFFF;\n",
       "    }\n",
       "  </style>\n",
       "\n",
       "      <script>\n",
       "        const buttonEl =\n",
       "          document.querySelector('#df-47fa4810-b03c-46fb-a628-10325e60065a button.colab-df-convert');\n",
       "        buttonEl.style.display =\n",
       "          google.colab.kernel.accessAllowed ? 'block' : 'none';\n",
       "\n",
       "        async function convertToInteractive(key) {\n",
       "          const element = document.querySelector('#df-47fa4810-b03c-46fb-a628-10325e60065a');\n",
       "          const dataTable =\n",
       "            await google.colab.kernel.invokeFunction('convertToInteractive',\n",
       "                                                     [key], {});\n",
       "          if (!dataTable) return;\n",
       "\n",
       "          const docLinkHtml = 'Like what you see? Visit the ' +\n",
       "            '<a target=\"_blank\" href=https://colab.research.google.com/notebooks/data_table.ipynb>data table notebook</a>'\n",
       "            + ' to learn more about interactive tables.';\n",
       "          element.innerHTML = '';\n",
       "          dataTable['output_type'] = 'display_data';\n",
       "          await google.colab.output.renderOutput(dataTable, element);\n",
       "          const docLink = document.createElement('div');\n",
       "          docLink.innerHTML = docLinkHtml;\n",
       "          element.appendChild(docLink);\n",
       "        }\n",
       "      </script>\n",
       "    </div>\n",
       "  </div>\n",
       "  "
      ],
      "text/plain": [
       "                Name     Developer Platform    Year     Genre\n",
       "0         Wii Sports  Nintendo EAD      Wii  2006.0    Sports\n",
       "1  Super Mario Bros.  Nintendo EAD      NES  1985.0  Platform\n",
       "2     Mario Kart Wii  Nintendo EAD      Wii  2008.0    Racing"
      ]
     },
     "execution_count": 103,
     "metadata": {},
     "output_type": "execute_result"
    }
   ],
   "source": [
    "additionalDSetAltered = additionalDSetAltered.drop_duplicates(subset=['Name', 'Developer'])\n",
    "additionalDSetAltered.head(3)"
   ]
  },
  {
   "cell_type": "markdown",
   "metadata": {
    "id": "T1PNtZ-p9kwq"
   },
   "source": [
    "Next, we extracted the Developer feature from the additional dataset by merging it with our main dataset"
   ]
  },
  {
   "cell_type": "code",
   "execution_count": null,
   "metadata": {
    "colab": {
     "base_uri": "https://localhost:8080/",
     "height": 424
    },
    "id": "_kN5Qwus9elM",
    "outputId": "f809418c-7f64-44db-eda5-cc0d8ae82953"
   },
   "outputs": [
    {
     "data": {
      "text/html": [
       "\n",
       "  <div id=\"df-302a64bf-0ca2-419f-8178-a9eebe71add4\">\n",
       "    <div class=\"colab-df-container\">\n",
       "      <div>\n",
       "<style scoped>\n",
       "    .dataframe tbody tr th:only-of-type {\n",
       "        vertical-align: middle;\n",
       "    }\n",
       "\n",
       "    .dataframe tbody tr th {\n",
       "        vertical-align: top;\n",
       "    }\n",
       "\n",
       "    .dataframe thead th {\n",
       "        text-align: right;\n",
       "    }\n",
       "</style>\n",
       "<table border=\"1\" class=\"dataframe\">\n",
       "  <thead>\n",
       "    <tr style=\"text-align: right;\">\n",
       "      <th></th>\n",
       "      <th>Rank</th>\n",
       "      <th>Name</th>\n",
       "      <th>Platform</th>\n",
       "      <th>Year</th>\n",
       "      <th>Genre</th>\n",
       "      <th>Publisher</th>\n",
       "      <th>NA_Sales</th>\n",
       "      <th>EU_Sales</th>\n",
       "      <th>JP_Sales</th>\n",
       "      <th>Other_Sales</th>\n",
       "      <th>Global_Sales</th>\n",
       "      <th>Developer</th>\n",
       "    </tr>\n",
       "  </thead>\n",
       "  <tbody>\n",
       "    <tr>\n",
       "      <th>0</th>\n",
       "      <td>1</td>\n",
       "      <td>Wii Sports</td>\n",
       "      <td>Wii</td>\n",
       "      <td>2006.0</td>\n",
       "      <td>Sports</td>\n",
       "      <td>Nintendo</td>\n",
       "      <td>41.49</td>\n",
       "      <td>29.02</td>\n",
       "      <td>3.77</td>\n",
       "      <td>8.46</td>\n",
       "      <td>82.74</td>\n",
       "      <td>Nintendo EAD</td>\n",
       "    </tr>\n",
       "    <tr>\n",
       "      <th>1</th>\n",
       "      <td>2</td>\n",
       "      <td>Super Mario Bros.</td>\n",
       "      <td>NES</td>\n",
       "      <td>1985.0</td>\n",
       "      <td>Platform</td>\n",
       "      <td>Nintendo</td>\n",
       "      <td>29.08</td>\n",
       "      <td>3.58</td>\n",
       "      <td>6.81</td>\n",
       "      <td>0.77</td>\n",
       "      <td>40.24</td>\n",
       "      <td>Nintendo EAD</td>\n",
       "    </tr>\n",
       "    <tr>\n",
       "      <th>2</th>\n",
       "      <td>3</td>\n",
       "      <td>Mario Kart Wii</td>\n",
       "      <td>Wii</td>\n",
       "      <td>2008.0</td>\n",
       "      <td>Racing</td>\n",
       "      <td>Nintendo</td>\n",
       "      <td>15.85</td>\n",
       "      <td>12.88</td>\n",
       "      <td>3.79</td>\n",
       "      <td>3.31</td>\n",
       "      <td>35.82</td>\n",
       "      <td>Nintendo EAD</td>\n",
       "    </tr>\n",
       "    <tr>\n",
       "      <th>3</th>\n",
       "      <td>4</td>\n",
       "      <td>Wii Sports Resort</td>\n",
       "      <td>Wii</td>\n",
       "      <td>2009.0</td>\n",
       "      <td>Sports</td>\n",
       "      <td>Nintendo</td>\n",
       "      <td>15.75</td>\n",
       "      <td>11.01</td>\n",
       "      <td>3.28</td>\n",
       "      <td>2.96</td>\n",
       "      <td>33.00</td>\n",
       "      <td>Nintendo EAD</td>\n",
       "    </tr>\n",
       "    <tr>\n",
       "      <th>4</th>\n",
       "      <td>5</td>\n",
       "      <td>Pokemon Red/Pokemon Blue</td>\n",
       "      <td>GB</td>\n",
       "      <td>1996.0</td>\n",
       "      <td>Role-Playing</td>\n",
       "      <td>Nintendo</td>\n",
       "      <td>11.27</td>\n",
       "      <td>8.89</td>\n",
       "      <td>10.22</td>\n",
       "      <td>1.00</td>\n",
       "      <td>31.37</td>\n",
       "      <td>NaN</td>\n",
       "    </tr>\n",
       "    <tr>\n",
       "      <th>...</th>\n",
       "      <td>...</td>\n",
       "      <td>...</td>\n",
       "      <td>...</td>\n",
       "      <td>...</td>\n",
       "      <td>...</td>\n",
       "      <td>...</td>\n",
       "      <td>...</td>\n",
       "      <td>...</td>\n",
       "      <td>...</td>\n",
       "      <td>...</td>\n",
       "      <td>...</td>\n",
       "      <td>...</td>\n",
       "    </tr>\n",
       "    <tr>\n",
       "      <th>16608</th>\n",
       "      <td>16596</td>\n",
       "      <td>Woody Woodpecker in Crazy Castle 5</td>\n",
       "      <td>GBA</td>\n",
       "      <td>2002.0</td>\n",
       "      <td>Platform</td>\n",
       "      <td>Kemco</td>\n",
       "      <td>0.01</td>\n",
       "      <td>0.00</td>\n",
       "      <td>0.00</td>\n",
       "      <td>0.00</td>\n",
       "      <td>0.01</td>\n",
       "      <td>NaN</td>\n",
       "    </tr>\n",
       "    <tr>\n",
       "      <th>16609</th>\n",
       "      <td>16597</td>\n",
       "      <td>Men in Black II: Alien Escape</td>\n",
       "      <td>GC</td>\n",
       "      <td>2003.0</td>\n",
       "      <td>Shooter</td>\n",
       "      <td>Infogrames</td>\n",
       "      <td>0.01</td>\n",
       "      <td>0.00</td>\n",
       "      <td>0.00</td>\n",
       "      <td>0.00</td>\n",
       "      <td>0.01</td>\n",
       "      <td>NaN</td>\n",
       "    </tr>\n",
       "    <tr>\n",
       "      <th>16610</th>\n",
       "      <td>16598</td>\n",
       "      <td>SCORE International Baja 1000: The Official Game</td>\n",
       "      <td>PS2</td>\n",
       "      <td>2008.0</td>\n",
       "      <td>Racing</td>\n",
       "      <td>Activision</td>\n",
       "      <td>0.00</td>\n",
       "      <td>0.00</td>\n",
       "      <td>0.00</td>\n",
       "      <td>0.00</td>\n",
       "      <td>0.01</td>\n",
       "      <td>NaN</td>\n",
       "    </tr>\n",
       "    <tr>\n",
       "      <th>16611</th>\n",
       "      <td>16599</td>\n",
       "      <td>Know How 2</td>\n",
       "      <td>DS</td>\n",
       "      <td>2010.0</td>\n",
       "      <td>Puzzle</td>\n",
       "      <td>7G//AMES</td>\n",
       "      <td>0.00</td>\n",
       "      <td>0.01</td>\n",
       "      <td>0.00</td>\n",
       "      <td>0.00</td>\n",
       "      <td>0.01</td>\n",
       "      <td>Bitfield GmbH</td>\n",
       "    </tr>\n",
       "    <tr>\n",
       "      <th>16612</th>\n",
       "      <td>16600</td>\n",
       "      <td>Spirits &amp; Spells</td>\n",
       "      <td>GBA</td>\n",
       "      <td>2003.0</td>\n",
       "      <td>Platform</td>\n",
       "      <td>Wanadoo</td>\n",
       "      <td>0.01</td>\n",
       "      <td>0.00</td>\n",
       "      <td>0.00</td>\n",
       "      <td>0.00</td>\n",
       "      <td>0.01</td>\n",
       "      <td>Magic Pockets</td>\n",
       "    </tr>\n",
       "  </tbody>\n",
       "</table>\n",
       "<p>16613 rows × 12 columns</p>\n",
       "</div>\n",
       "      <button class=\"colab-df-convert\" onclick=\"convertToInteractive('df-302a64bf-0ca2-419f-8178-a9eebe71add4')\"\n",
       "              title=\"Convert this dataframe to an interactive table.\"\n",
       "              style=\"display:none;\">\n",
       "        \n",
       "  <svg xmlns=\"http://www.w3.org/2000/svg\" height=\"24px\"viewBox=\"0 0 24 24\"\n",
       "       width=\"24px\">\n",
       "    <path d=\"M0 0h24v24H0V0z\" fill=\"none\"/>\n",
       "    <path d=\"M18.56 5.44l.94 2.06.94-2.06 2.06-.94-2.06-.94-.94-2.06-.94 2.06-2.06.94zm-11 1L8.5 8.5l.94-2.06 2.06-.94-2.06-.94L8.5 2.5l-.94 2.06-2.06.94zm10 10l.94 2.06.94-2.06 2.06-.94-2.06-.94-.94-2.06-.94 2.06-2.06.94z\"/><path d=\"M17.41 7.96l-1.37-1.37c-.4-.4-.92-.59-1.43-.59-.52 0-1.04.2-1.43.59L10.3 9.45l-7.72 7.72c-.78.78-.78 2.05 0 2.83L4 21.41c.39.39.9.59 1.41.59.51 0 1.02-.2 1.41-.59l7.78-7.78 2.81-2.81c.8-.78.8-2.07 0-2.86zM5.41 20L4 18.59l7.72-7.72 1.47 1.35L5.41 20z\"/>\n",
       "  </svg>\n",
       "      </button>\n",
       "      \n",
       "  <style>\n",
       "    .colab-df-container {\n",
       "      display:flex;\n",
       "      flex-wrap:wrap;\n",
       "      gap: 12px;\n",
       "    }\n",
       "\n",
       "    .colab-df-convert {\n",
       "      background-color: #E8F0FE;\n",
       "      border: none;\n",
       "      border-radius: 50%;\n",
       "      cursor: pointer;\n",
       "      display: none;\n",
       "      fill: #1967D2;\n",
       "      height: 32px;\n",
       "      padding: 0 0 0 0;\n",
       "      width: 32px;\n",
       "    }\n",
       "\n",
       "    .colab-df-convert:hover {\n",
       "      background-color: #E2EBFA;\n",
       "      box-shadow: 0px 1px 2px rgba(60, 64, 67, 0.3), 0px 1px 3px 1px rgba(60, 64, 67, 0.15);\n",
       "      fill: #174EA6;\n",
       "    }\n",
       "\n",
       "    [theme=dark] .colab-df-convert {\n",
       "      background-color: #3B4455;\n",
       "      fill: #D2E3FC;\n",
       "    }\n",
       "\n",
       "    [theme=dark] .colab-df-convert:hover {\n",
       "      background-color: #434B5C;\n",
       "      box-shadow: 0px 1px 3px 1px rgba(0, 0, 0, 0.15);\n",
       "      filter: drop-shadow(0px 1px 2px rgba(0, 0, 0, 0.3));\n",
       "      fill: #FFFFFF;\n",
       "    }\n",
       "  </style>\n",
       "\n",
       "      <script>\n",
       "        const buttonEl =\n",
       "          document.querySelector('#df-302a64bf-0ca2-419f-8178-a9eebe71add4 button.colab-df-convert');\n",
       "        buttonEl.style.display =\n",
       "          google.colab.kernel.accessAllowed ? 'block' : 'none';\n",
       "\n",
       "        async function convertToInteractive(key) {\n",
       "          const element = document.querySelector('#df-302a64bf-0ca2-419f-8178-a9eebe71add4');\n",
       "          const dataTable =\n",
       "            await google.colab.kernel.invokeFunction('convertToInteractive',\n",
       "                                                     [key], {});\n",
       "          if (!dataTable) return;\n",
       "\n",
       "          const docLinkHtml = 'Like what you see? Visit the ' +\n",
       "            '<a target=\"_blank\" href=https://colab.research.google.com/notebooks/data_table.ipynb>data table notebook</a>'\n",
       "            + ' to learn more about interactive tables.';\n",
       "          element.innerHTML = '';\n",
       "          dataTable['output_type'] = 'display_data';\n",
       "          await google.colab.output.renderOutput(dataTable, element);\n",
       "          const docLink = document.createElement('div');\n",
       "          docLink.innerHTML = docLinkHtml;\n",
       "          element.appendChild(docLink);\n",
       "        }\n",
       "      </script>\n",
       "    </div>\n",
       "  </div>\n",
       "  "
      ],
      "text/plain": [
       "        Rank  ...      Developer\n",
       "0          1  ...   Nintendo EAD\n",
       "1          2  ...   Nintendo EAD\n",
       "2          3  ...   Nintendo EAD\n",
       "3          4  ...   Nintendo EAD\n",
       "4          5  ...            NaN\n",
       "...      ...  ...            ...\n",
       "16608  16596  ...            NaN\n",
       "16609  16597  ...            NaN\n",
       "16610  16598  ...            NaN\n",
       "16611  16599  ...  Bitfield GmbH\n",
       "16612  16600  ...  Magic Pockets\n",
       "\n",
       "[16613 rows x 12 columns]"
      ]
     },
     "execution_count": 104,
     "metadata": {},
     "output_type": "execute_result"
    }
   ],
   "source": [
    "result_test = pd.merge(mainDSet,additionalDSetAltered,on=[\"Name\",\"Platform\", \"Year\", \"Genre\"],how=\"left\")\n",
    "result_test"
   ]
  },
  {
   "cell_type": "markdown",
   "metadata": {
    "id": "9OtNSJZK-Cqj"
   },
   "source": [
    "Here, we stumbled upon an issue that arose with this merge. The original main dataset contained only 16598 rows, but this new dataset contained 16613. After running a few tests to look for what was causing the issue, we came to a realization. The additional dataset which we were trying to extract the feature from had developers in different entries for the same game and console, resulting in the Ace Combat 5: The Unsung War example below"
   ]
  },
  {
   "cell_type": "code",
   "execution_count": null,
   "metadata": {
    "colab": {
     "base_uri": "https://localhost:8080/",
     "height": 112
    },
    "id": "Et5JJrRU_Xu2",
    "outputId": "ebfb7548-b07a-49b7-e6a7-ec02ff13f60e"
   },
   "outputs": [
    {
     "data": {
      "text/html": [
       "\n",
       "  <div id=\"df-4510b67d-2044-47f7-82bd-de609ac9dc1f\">\n",
       "    <div class=\"colab-df-container\">\n",
       "      <div>\n",
       "<style scoped>\n",
       "    .dataframe tbody tr th:only-of-type {\n",
       "        vertical-align: middle;\n",
       "    }\n",
       "\n",
       "    .dataframe tbody tr th {\n",
       "        vertical-align: top;\n",
       "    }\n",
       "\n",
       "    .dataframe thead th {\n",
       "        text-align: right;\n",
       "    }\n",
       "</style>\n",
       "<table border=\"1\" class=\"dataframe\">\n",
       "  <thead>\n",
       "    <tr style=\"text-align: right;\">\n",
       "      <th></th>\n",
       "      <th>Name</th>\n",
       "      <th>Developer</th>\n",
       "      <th>Platform</th>\n",
       "      <th>Year</th>\n",
       "      <th>Genre</th>\n",
       "    </tr>\n",
       "  </thead>\n",
       "  <tbody>\n",
       "    <tr>\n",
       "      <th>1232</th>\n",
       "      <td>Ace Combat 5: The Unsung War</td>\n",
       "      <td>Namco</td>\n",
       "      <td>PS2</td>\n",
       "      <td>2004.0</td>\n",
       "      <td>Simulation</td>\n",
       "    </tr>\n",
       "    <tr>\n",
       "      <th>21764</th>\n",
       "      <td>Ace Combat 5: The Unsung War</td>\n",
       "      <td>Project ACES</td>\n",
       "      <td>PS2</td>\n",
       "      <td>2004.0</td>\n",
       "      <td>Simulation</td>\n",
       "    </tr>\n",
       "  </tbody>\n",
       "</table>\n",
       "</div>\n",
       "      <button class=\"colab-df-convert\" onclick=\"convertToInteractive('df-4510b67d-2044-47f7-82bd-de609ac9dc1f')\"\n",
       "              title=\"Convert this dataframe to an interactive table.\"\n",
       "              style=\"display:none;\">\n",
       "        \n",
       "  <svg xmlns=\"http://www.w3.org/2000/svg\" height=\"24px\"viewBox=\"0 0 24 24\"\n",
       "       width=\"24px\">\n",
       "    <path d=\"M0 0h24v24H0V0z\" fill=\"none\"/>\n",
       "    <path d=\"M18.56 5.44l.94 2.06.94-2.06 2.06-.94-2.06-.94-.94-2.06-.94 2.06-2.06.94zm-11 1L8.5 8.5l.94-2.06 2.06-.94-2.06-.94L8.5 2.5l-.94 2.06-2.06.94zm10 10l.94 2.06.94-2.06 2.06-.94-2.06-.94-.94-2.06-.94 2.06-2.06.94z\"/><path d=\"M17.41 7.96l-1.37-1.37c-.4-.4-.92-.59-1.43-.59-.52 0-1.04.2-1.43.59L10.3 9.45l-7.72 7.72c-.78.78-.78 2.05 0 2.83L4 21.41c.39.39.9.59 1.41.59.51 0 1.02-.2 1.41-.59l7.78-7.78 2.81-2.81c.8-.78.8-2.07 0-2.86zM5.41 20L4 18.59l7.72-7.72 1.47 1.35L5.41 20z\"/>\n",
       "  </svg>\n",
       "      </button>\n",
       "      \n",
       "  <style>\n",
       "    .colab-df-container {\n",
       "      display:flex;\n",
       "      flex-wrap:wrap;\n",
       "      gap: 12px;\n",
       "    }\n",
       "\n",
       "    .colab-df-convert {\n",
       "      background-color: #E8F0FE;\n",
       "      border: none;\n",
       "      border-radius: 50%;\n",
       "      cursor: pointer;\n",
       "      display: none;\n",
       "      fill: #1967D2;\n",
       "      height: 32px;\n",
       "      padding: 0 0 0 0;\n",
       "      width: 32px;\n",
       "    }\n",
       "\n",
       "    .colab-df-convert:hover {\n",
       "      background-color: #E2EBFA;\n",
       "      box-shadow: 0px 1px 2px rgba(60, 64, 67, 0.3), 0px 1px 3px 1px rgba(60, 64, 67, 0.15);\n",
       "      fill: #174EA6;\n",
       "    }\n",
       "\n",
       "    [theme=dark] .colab-df-convert {\n",
       "      background-color: #3B4455;\n",
       "      fill: #D2E3FC;\n",
       "    }\n",
       "\n",
       "    [theme=dark] .colab-df-convert:hover {\n",
       "      background-color: #434B5C;\n",
       "      box-shadow: 0px 1px 3px 1px rgba(0, 0, 0, 0.15);\n",
       "      filter: drop-shadow(0px 1px 2px rgba(0, 0, 0, 0.3));\n",
       "      fill: #FFFFFF;\n",
       "    }\n",
       "  </style>\n",
       "\n",
       "      <script>\n",
       "        const buttonEl =\n",
       "          document.querySelector('#df-4510b67d-2044-47f7-82bd-de609ac9dc1f button.colab-df-convert');\n",
       "        buttonEl.style.display =\n",
       "          google.colab.kernel.accessAllowed ? 'block' : 'none';\n",
       "\n",
       "        async function convertToInteractive(key) {\n",
       "          const element = document.querySelector('#df-4510b67d-2044-47f7-82bd-de609ac9dc1f');\n",
       "          const dataTable =\n",
       "            await google.colab.kernel.invokeFunction('convertToInteractive',\n",
       "                                                     [key], {});\n",
       "          if (!dataTable) return;\n",
       "\n",
       "          const docLinkHtml = 'Like what you see? Visit the ' +\n",
       "            '<a target=\"_blank\" href=https://colab.research.google.com/notebooks/data_table.ipynb>data table notebook</a>'\n",
       "            + ' to learn more about interactive tables.';\n",
       "          element.innerHTML = '';\n",
       "          dataTable['output_type'] = 'display_data';\n",
       "          await google.colab.output.renderOutput(dataTable, element);\n",
       "          const docLink = document.createElement('div');\n",
       "          docLink.innerHTML = docLinkHtml;\n",
       "          element.appendChild(docLink);\n",
       "        }\n",
       "      </script>\n",
       "    </div>\n",
       "  </div>\n",
       "  "
      ],
      "text/plain": [
       "                               Name     Developer Platform    Year       Genre\n",
       "1232   Ace Combat 5: The Unsung War         Namco      PS2  2004.0  Simulation\n",
       "21764  Ace Combat 5: The Unsung War  Project ACES      PS2  2004.0  Simulation"
      ]
     },
     "execution_count": 105,
     "metadata": {},
     "output_type": "execute_result"
    }
   ],
   "source": [
    "additionalDSetAltered[additionalDSetAltered['Name'] == 'Ace Combat 5: The Unsung War']"
   ]
  },
  {
   "cell_type": "code",
   "execution_count": null,
   "metadata": {
    "colab": {
     "base_uri": "https://localhost:8080/",
     "height": 112
    },
    "id": "eAG1VQOk9wPl",
    "outputId": "3ddc827d-c890-4153-f2cf-840be3b1d52f"
   },
   "outputs": [
    {
     "data": {
      "text/html": [
       "\n",
       "  <div id=\"df-79756e02-eb3a-417e-89bb-69de31a2c98b\">\n",
       "    <div class=\"colab-df-container\">\n",
       "      <div>\n",
       "<style scoped>\n",
       "    .dataframe tbody tr th:only-of-type {\n",
       "        vertical-align: middle;\n",
       "    }\n",
       "\n",
       "    .dataframe tbody tr th {\n",
       "        vertical-align: top;\n",
       "    }\n",
       "\n",
       "    .dataframe thead th {\n",
       "        text-align: right;\n",
       "    }\n",
       "</style>\n",
       "<table border=\"1\" class=\"dataframe\">\n",
       "  <thead>\n",
       "    <tr style=\"text-align: right;\">\n",
       "      <th></th>\n",
       "      <th>Rank</th>\n",
       "      <th>Name</th>\n",
       "      <th>Platform</th>\n",
       "      <th>Year</th>\n",
       "      <th>Genre</th>\n",
       "      <th>Publisher</th>\n",
       "      <th>NA_Sales</th>\n",
       "      <th>EU_Sales</th>\n",
       "      <th>JP_Sales</th>\n",
       "      <th>Other_Sales</th>\n",
       "      <th>Global_Sales</th>\n",
       "      <th>Developer</th>\n",
       "    </tr>\n",
       "  </thead>\n",
       "  <tbody>\n",
       "    <tr>\n",
       "      <th>1044</th>\n",
       "      <td>1046</td>\n",
       "      <td>Ace Combat 5: The Unsung War</td>\n",
       "      <td>PS2</td>\n",
       "      <td>2004.0</td>\n",
       "      <td>Simulation</td>\n",
       "      <td>Sony Computer Entertainment Europe</td>\n",
       "      <td>0.88</td>\n",
       "      <td>0.34</td>\n",
       "      <td>0.32</td>\n",
       "      <td>0.18</td>\n",
       "      <td>1.71</td>\n",
       "      <td>Namco</td>\n",
       "    </tr>\n",
       "    <tr>\n",
       "      <th>1045</th>\n",
       "      <td>1046</td>\n",
       "      <td>Ace Combat 5: The Unsung War</td>\n",
       "      <td>PS2</td>\n",
       "      <td>2004.0</td>\n",
       "      <td>Simulation</td>\n",
       "      <td>Sony Computer Entertainment Europe</td>\n",
       "      <td>0.88</td>\n",
       "      <td>0.34</td>\n",
       "      <td>0.32</td>\n",
       "      <td>0.18</td>\n",
       "      <td>1.71</td>\n",
       "      <td>Project ACES</td>\n",
       "    </tr>\n",
       "  </tbody>\n",
       "</table>\n",
       "</div>\n",
       "      <button class=\"colab-df-convert\" onclick=\"convertToInteractive('df-79756e02-eb3a-417e-89bb-69de31a2c98b')\"\n",
       "              title=\"Convert this dataframe to an interactive table.\"\n",
       "              style=\"display:none;\">\n",
       "        \n",
       "  <svg xmlns=\"http://www.w3.org/2000/svg\" height=\"24px\"viewBox=\"0 0 24 24\"\n",
       "       width=\"24px\">\n",
       "    <path d=\"M0 0h24v24H0V0z\" fill=\"none\"/>\n",
       "    <path d=\"M18.56 5.44l.94 2.06.94-2.06 2.06-.94-2.06-.94-.94-2.06-.94 2.06-2.06.94zm-11 1L8.5 8.5l.94-2.06 2.06-.94-2.06-.94L8.5 2.5l-.94 2.06-2.06.94zm10 10l.94 2.06.94-2.06 2.06-.94-2.06-.94-.94-2.06-.94 2.06-2.06.94z\"/><path d=\"M17.41 7.96l-1.37-1.37c-.4-.4-.92-.59-1.43-.59-.52 0-1.04.2-1.43.59L10.3 9.45l-7.72 7.72c-.78.78-.78 2.05 0 2.83L4 21.41c.39.39.9.59 1.41.59.51 0 1.02-.2 1.41-.59l7.78-7.78 2.81-2.81c.8-.78.8-2.07 0-2.86zM5.41 20L4 18.59l7.72-7.72 1.47 1.35L5.41 20z\"/>\n",
       "  </svg>\n",
       "      </button>\n",
       "      \n",
       "  <style>\n",
       "    .colab-df-container {\n",
       "      display:flex;\n",
       "      flex-wrap:wrap;\n",
       "      gap: 12px;\n",
       "    }\n",
       "\n",
       "    .colab-df-convert {\n",
       "      background-color: #E8F0FE;\n",
       "      border: none;\n",
       "      border-radius: 50%;\n",
       "      cursor: pointer;\n",
       "      display: none;\n",
       "      fill: #1967D2;\n",
       "      height: 32px;\n",
       "      padding: 0 0 0 0;\n",
       "      width: 32px;\n",
       "    }\n",
       "\n",
       "    .colab-df-convert:hover {\n",
       "      background-color: #E2EBFA;\n",
       "      box-shadow: 0px 1px 2px rgba(60, 64, 67, 0.3), 0px 1px 3px 1px rgba(60, 64, 67, 0.15);\n",
       "      fill: #174EA6;\n",
       "    }\n",
       "\n",
       "    [theme=dark] .colab-df-convert {\n",
       "      background-color: #3B4455;\n",
       "      fill: #D2E3FC;\n",
       "    }\n",
       "\n",
       "    [theme=dark] .colab-df-convert:hover {\n",
       "      background-color: #434B5C;\n",
       "      box-shadow: 0px 1px 3px 1px rgba(0, 0, 0, 0.15);\n",
       "      filter: drop-shadow(0px 1px 2px rgba(0, 0, 0, 0.3));\n",
       "      fill: #FFFFFF;\n",
       "    }\n",
       "  </style>\n",
       "\n",
       "      <script>\n",
       "        const buttonEl =\n",
       "          document.querySelector('#df-79756e02-eb3a-417e-89bb-69de31a2c98b button.colab-df-convert');\n",
       "        buttonEl.style.display =\n",
       "          google.colab.kernel.accessAllowed ? 'block' : 'none';\n",
       "\n",
       "        async function convertToInteractive(key) {\n",
       "          const element = document.querySelector('#df-79756e02-eb3a-417e-89bb-69de31a2c98b');\n",
       "          const dataTable =\n",
       "            await google.colab.kernel.invokeFunction('convertToInteractive',\n",
       "                                                     [key], {});\n",
       "          if (!dataTable) return;\n",
       "\n",
       "          const docLinkHtml = 'Like what you see? Visit the ' +\n",
       "            '<a target=\"_blank\" href=https://colab.research.google.com/notebooks/data_table.ipynb>data table notebook</a>'\n",
       "            + ' to learn more about interactive tables.';\n",
       "          element.innerHTML = '';\n",
       "          dataTable['output_type'] = 'display_data';\n",
       "          await google.colab.output.renderOutput(dataTable, element);\n",
       "          const docLink = document.createElement('div');\n",
       "          docLink.innerHTML = docLinkHtml;\n",
       "          element.appendChild(docLink);\n",
       "        }\n",
       "      </script>\n",
       "    </div>\n",
       "  </div>\n",
       "  "
      ],
      "text/plain": [
       "      Rank                          Name  ... Global_Sales     Developer\n",
       "1044  1046  Ace Combat 5: The Unsung War  ...         1.71         Namco\n",
       "1045  1046  Ace Combat 5: The Unsung War  ...         1.71  Project ACES\n",
       "\n",
       "[2 rows x 12 columns]"
      ]
     },
     "execution_count": 106,
     "metadata": {},
     "output_type": "execute_result"
    }
   ],
   "source": [
    "result_test[result_test['Name'] == 'Ace Combat 5: The Unsung War']"
   ]
  },
  {
   "cell_type": "markdown",
   "metadata": {
    "id": "HuzGqyr2_q8s"
   },
   "source": [
    "Despite both games being of the same console, they existed as two separate entries in the additional dataset, and when this dataset was merged with the main dataset, it resulted in rows being added, about 15 to be exact. To amend this issue, we decided that the best course of action would be to combine the rows where all features besides the Developer had the same values into a single row, with the different Developer values separated by a \"/\". This was done because it appears as though that was already how the dataset handled multiple developers for a single entry, as can be seen below."
   ]
  },
  {
   "cell_type": "code",
   "execution_count": null,
   "metadata": {
    "colab": {
     "base_uri": "https://localhost:8080/",
     "height": 424
    },
    "id": "vrXktrZgACH0",
    "outputId": "0eb74dcf-2744-4a37-c198-d9a789893039"
   },
   "outputs": [
    {
     "data": {
      "text/html": [
       "\n",
       "  <div id=\"df-9091edcb-b11d-4c5e-9b83-bc04e81d22d4\">\n",
       "    <div class=\"colab-df-container\">\n",
       "      <div>\n",
       "<style scoped>\n",
       "    .dataframe tbody tr th:only-of-type {\n",
       "        vertical-align: middle;\n",
       "    }\n",
       "\n",
       "    .dataframe tbody tr th {\n",
       "        vertical-align: top;\n",
       "    }\n",
       "\n",
       "    .dataframe thead th {\n",
       "        text-align: right;\n",
       "    }\n",
       "</style>\n",
       "<table border=\"1\" class=\"dataframe\">\n",
       "  <thead>\n",
       "    <tr style=\"text-align: right;\">\n",
       "      <th></th>\n",
       "      <th>Rank</th>\n",
       "      <th>Name</th>\n",
       "      <th>Platform</th>\n",
       "      <th>Year</th>\n",
       "      <th>Genre</th>\n",
       "      <th>Publisher</th>\n",
       "      <th>NA_Sales</th>\n",
       "      <th>EU_Sales</th>\n",
       "      <th>JP_Sales</th>\n",
       "      <th>Other_Sales</th>\n",
       "      <th>Global_Sales</th>\n",
       "      <th>Developer</th>\n",
       "    </tr>\n",
       "  </thead>\n",
       "  <tbody>\n",
       "    <tr>\n",
       "      <th>42</th>\n",
       "      <td>43</td>\n",
       "      <td>Mario Kart 7</td>\n",
       "      <td>3DS</td>\n",
       "      <td>2011.0</td>\n",
       "      <td>Racing</td>\n",
       "      <td>Nintendo</td>\n",
       "      <td>4.74</td>\n",
       "      <td>3.91</td>\n",
       "      <td>2.67</td>\n",
       "      <td>0.89</td>\n",
       "      <td>12.21</td>\n",
       "      <td>Nintendo EAD / Retro Studios</td>\n",
       "    </tr>\n",
       "    <tr>\n",
       "      <th>265</th>\n",
       "      <td>266</td>\n",
       "      <td>Metal Gear Solid 3: Snake Eater</td>\n",
       "      <td>PS2</td>\n",
       "      <td>2004.0</td>\n",
       "      <td>Action</td>\n",
       "      <td>Konami Digital Entertainment</td>\n",
       "      <td>1.46</td>\n",
       "      <td>0.00</td>\n",
       "      <td>0.83</td>\n",
       "      <td>1.93</td>\n",
       "      <td>4.23</td>\n",
       "      <td>KCEJ / Kojima Productions</td>\n",
       "    </tr>\n",
       "    <tr>\n",
       "      <th>274</th>\n",
       "      <td>275</td>\n",
       "      <td>Street Fighter IV</td>\n",
       "      <td>PS3</td>\n",
       "      <td>2009.0</td>\n",
       "      <td>Fighting</td>\n",
       "      <td>Capcom</td>\n",
       "      <td>2.02</td>\n",
       "      <td>1.06</td>\n",
       "      <td>0.58</td>\n",
       "      <td>0.53</td>\n",
       "      <td>4.19</td>\n",
       "      <td>Capcom / Dimps Corporation</td>\n",
       "    </tr>\n",
       "    <tr>\n",
       "      <th>301</th>\n",
       "      <td>302</td>\n",
       "      <td>Left 4 Dead 2</td>\n",
       "      <td>X360</td>\n",
       "      <td>2009.0</td>\n",
       "      <td>Shooter</td>\n",
       "      <td>Electronic Arts</td>\n",
       "      <td>2.67</td>\n",
       "      <td>0.89</td>\n",
       "      <td>0.05</td>\n",
       "      <td>0.37</td>\n",
       "      <td>3.99</td>\n",
       "      <td>Certain Affinity / Valve Software</td>\n",
       "    </tr>\n",
       "    <tr>\n",
       "      <th>369</th>\n",
       "      <td>370</td>\n",
       "      <td>Left 4 Dead</td>\n",
       "      <td>X360</td>\n",
       "      <td>2008.0</td>\n",
       "      <td>Shooter</td>\n",
       "      <td>Electronic Arts</td>\n",
       "      <td>2.66</td>\n",
       "      <td>0.50</td>\n",
       "      <td>0.05</td>\n",
       "      <td>0.30</td>\n",
       "      <td>3.52</td>\n",
       "      <td>Certain Affinity / Valve Software</td>\n",
       "    </tr>\n",
       "    <tr>\n",
       "      <th>...</th>\n",
       "      <td>...</td>\n",
       "      <td>...</td>\n",
       "      <td>...</td>\n",
       "      <td>...</td>\n",
       "      <td>...</td>\n",
       "      <td>...</td>\n",
       "      <td>...</td>\n",
       "      <td>...</td>\n",
       "      <td>...</td>\n",
       "      <td>...</td>\n",
       "      <td>...</td>\n",
       "      <td>...</td>\n",
       "    </tr>\n",
       "    <tr>\n",
       "      <th>15589</th>\n",
       "      <td>15578</td>\n",
       "      <td>My Hero: Doctor</td>\n",
       "      <td>DS</td>\n",
       "      <td>2009.0</td>\n",
       "      <td>Action</td>\n",
       "      <td>Majesco Entertainment</td>\n",
       "      <td>0.02</td>\n",
       "      <td>0.00</td>\n",
       "      <td>0.00</td>\n",
       "      <td>0.00</td>\n",
       "      <td>0.02</td>\n",
       "      <td>Game Life / Dream On Studio</td>\n",
       "    </tr>\n",
       "    <tr>\n",
       "      <th>15778</th>\n",
       "      <td>15767</td>\n",
       "      <td>Soul Eater: Monotone Princess</td>\n",
       "      <td>Wii</td>\n",
       "      <td>2008.0</td>\n",
       "      <td>Action</td>\n",
       "      <td>Square Enix</td>\n",
       "      <td>0.00</td>\n",
       "      <td>0.00</td>\n",
       "      <td>0.02</td>\n",
       "      <td>0.00</td>\n",
       "      <td>0.02</td>\n",
       "      <td>Square Enix / Bones</td>\n",
       "    </tr>\n",
       "    <tr>\n",
       "      <th>16140</th>\n",
       "      <td>16129</td>\n",
       "      <td>Monster Rancher Advance 2</td>\n",
       "      <td>GBA</td>\n",
       "      <td>2002.0</td>\n",
       "      <td>Simulation</td>\n",
       "      <td>Tecmo Koei</td>\n",
       "      <td>0.01</td>\n",
       "      <td>0.00</td>\n",
       "      <td>0.00</td>\n",
       "      <td>0.00</td>\n",
       "      <td>0.01</td>\n",
       "      <td>Tecmo / Graphic Research</td>\n",
       "    </tr>\n",
       "    <tr>\n",
       "      <th>16367</th>\n",
       "      <td>16356</td>\n",
       "      <td>G1 Jockey 4 2008</td>\n",
       "      <td>PS3</td>\n",
       "      <td>2008.0</td>\n",
       "      <td>Sports</td>\n",
       "      <td>Tecmo Koei</td>\n",
       "      <td>0.00</td>\n",
       "      <td>0.01</td>\n",
       "      <td>0.00</td>\n",
       "      <td>0.00</td>\n",
       "      <td>0.01</td>\n",
       "      <td>Koei/Inis</td>\n",
       "    </tr>\n",
       "    <tr>\n",
       "      <th>16455</th>\n",
       "      <td>16444</td>\n",
       "      <td>G1 Jockey 4 2007</td>\n",
       "      <td>PS2</td>\n",
       "      <td>2007.0</td>\n",
       "      <td>Sports</td>\n",
       "      <td>Tecmo Koei</td>\n",
       "      <td>0.00</td>\n",
       "      <td>0.00</td>\n",
       "      <td>0.01</td>\n",
       "      <td>0.00</td>\n",
       "      <td>0.01</td>\n",
       "      <td>Koei/Inis</td>\n",
       "    </tr>\n",
       "  </tbody>\n",
       "</table>\n",
       "<p>131 rows × 12 columns</p>\n",
       "</div>\n",
       "      <button class=\"colab-df-convert\" onclick=\"convertToInteractive('df-9091edcb-b11d-4c5e-9b83-bc04e81d22d4')\"\n",
       "              title=\"Convert this dataframe to an interactive table.\"\n",
       "              style=\"display:none;\">\n",
       "        \n",
       "  <svg xmlns=\"http://www.w3.org/2000/svg\" height=\"24px\"viewBox=\"0 0 24 24\"\n",
       "       width=\"24px\">\n",
       "    <path d=\"M0 0h24v24H0V0z\" fill=\"none\"/>\n",
       "    <path d=\"M18.56 5.44l.94 2.06.94-2.06 2.06-.94-2.06-.94-.94-2.06-.94 2.06-2.06.94zm-11 1L8.5 8.5l.94-2.06 2.06-.94-2.06-.94L8.5 2.5l-.94 2.06-2.06.94zm10 10l.94 2.06.94-2.06 2.06-.94-2.06-.94-.94-2.06-.94 2.06-2.06.94z\"/><path d=\"M17.41 7.96l-1.37-1.37c-.4-.4-.92-.59-1.43-.59-.52 0-1.04.2-1.43.59L10.3 9.45l-7.72 7.72c-.78.78-.78 2.05 0 2.83L4 21.41c.39.39.9.59 1.41.59.51 0 1.02-.2 1.41-.59l7.78-7.78 2.81-2.81c.8-.78.8-2.07 0-2.86zM5.41 20L4 18.59l7.72-7.72 1.47 1.35L5.41 20z\"/>\n",
       "  </svg>\n",
       "      </button>\n",
       "      \n",
       "  <style>\n",
       "    .colab-df-container {\n",
       "      display:flex;\n",
       "      flex-wrap:wrap;\n",
       "      gap: 12px;\n",
       "    }\n",
       "\n",
       "    .colab-df-convert {\n",
       "      background-color: #E8F0FE;\n",
       "      border: none;\n",
       "      border-radius: 50%;\n",
       "      cursor: pointer;\n",
       "      display: none;\n",
       "      fill: #1967D2;\n",
       "      height: 32px;\n",
       "      padding: 0 0 0 0;\n",
       "      width: 32px;\n",
       "    }\n",
       "\n",
       "    .colab-df-convert:hover {\n",
       "      background-color: #E2EBFA;\n",
       "      box-shadow: 0px 1px 2px rgba(60, 64, 67, 0.3), 0px 1px 3px 1px rgba(60, 64, 67, 0.15);\n",
       "      fill: #174EA6;\n",
       "    }\n",
       "\n",
       "    [theme=dark] .colab-df-convert {\n",
       "      background-color: #3B4455;\n",
       "      fill: #D2E3FC;\n",
       "    }\n",
       "\n",
       "    [theme=dark] .colab-df-convert:hover {\n",
       "      background-color: #434B5C;\n",
       "      box-shadow: 0px 1px 3px 1px rgba(0, 0, 0, 0.15);\n",
       "      filter: drop-shadow(0px 1px 2px rgba(0, 0, 0, 0.3));\n",
       "      fill: #FFFFFF;\n",
       "    }\n",
       "  </style>\n",
       "\n",
       "      <script>\n",
       "        const buttonEl =\n",
       "          document.querySelector('#df-9091edcb-b11d-4c5e-9b83-bc04e81d22d4 button.colab-df-convert');\n",
       "        buttonEl.style.display =\n",
       "          google.colab.kernel.accessAllowed ? 'block' : 'none';\n",
       "\n",
       "        async function convertToInteractive(key) {\n",
       "          const element = document.querySelector('#df-9091edcb-b11d-4c5e-9b83-bc04e81d22d4');\n",
       "          const dataTable =\n",
       "            await google.colab.kernel.invokeFunction('convertToInteractive',\n",
       "                                                     [key], {});\n",
       "          if (!dataTable) return;\n",
       "\n",
       "          const docLinkHtml = 'Like what you see? Visit the ' +\n",
       "            '<a target=\"_blank\" href=https://colab.research.google.com/notebooks/data_table.ipynb>data table notebook</a>'\n",
       "            + ' to learn more about interactive tables.';\n",
       "          element.innerHTML = '';\n",
       "          dataTable['output_type'] = 'display_data';\n",
       "          await google.colab.output.renderOutput(dataTable, element);\n",
       "          const docLink = document.createElement('div');\n",
       "          docLink.innerHTML = docLinkHtml;\n",
       "          element.appendChild(docLink);\n",
       "        }\n",
       "      </script>\n",
       "    </div>\n",
       "  </div>\n",
       "  "
      ],
      "text/plain": [
       "        Rank  ...                          Developer\n",
       "42        43  ...       Nintendo EAD / Retro Studios\n",
       "265      266  ...          KCEJ / Kojima Productions\n",
       "274      275  ...         Capcom / Dimps Corporation\n",
       "301      302  ...  Certain Affinity / Valve Software\n",
       "369      370  ...  Certain Affinity / Valve Software\n",
       "...      ...  ...                                ...\n",
       "15589  15578  ...        Game Life / Dream On Studio\n",
       "15778  15767  ...                Square Enix / Bones\n",
       "16140  16129  ...           Tecmo / Graphic Research\n",
       "16367  16356  ...                          Koei/Inis\n",
       "16455  16444  ...                          Koei/Inis\n",
       "\n",
       "[131 rows x 12 columns]"
      ]
     },
     "execution_count": 107,
     "metadata": {},
     "output_type": "execute_result"
    }
   ],
   "source": [
    "result_test[result_test['Developer'].str.split('/').str.len() > 1]"
   ]
  },
  {
   "cell_type": "markdown",
   "metadata": {
    "id": "el8u8X2AB7t0"
   },
   "source": [
    "After some attempts using .groupby from the pandas library, we realized that because we were grouping by all features besides Developer, and the features Year and Publisher had missing values, those missing values were causing rows to be deleted. A workaround we found for this was to temporarily set all the rows with missing values for Year to 0 and missing values for Publisher to an empty space, just so rows were not lost in the process. Additionally, we had to do the same to the Developer feature as what we did to the Publisher feature, which was to set all its missing values to an empty space."
   ]
  },
  {
   "cell_type": "code",
   "execution_count": null,
   "metadata": {
    "id": "keWvdESQAt78"
   },
   "outputs": [],
   "source": [
    "result_test.loc[result_test['Year'].isna(), ['Year']] = 0\n",
    "result_test.loc[result_test['Publisher'].isna(), ['Publisher']] = \"\"\n",
    "result_test.loc[result_test['Developer'].isna(), ['Developer']] = \"\""
   ]
  },
  {
   "cell_type": "markdown",
   "metadata": {
    "id": "OwrR4fgLC3D6"
   },
   "source": [
    "We were now ready to proceed without fear of losing rows"
   ]
  },
  {
   "cell_type": "code",
   "execution_count": null,
   "metadata": {
    "id": "G82E-SF0C9uy"
   },
   "outputs": [],
   "source": [
    "result_test = result_test.groupby(['Rank', 'Name', 'Platform', 'Year', 'Genre', 'Publisher', 'NA_Sales', 'EU_Sales', 'JP_Sales', 'Other_Sales', 'Global_Sales'])['Developer'].apply(lambda x: '/'.join(x)).reset_index()"
   ]
  },
  {
   "cell_type": "code",
   "execution_count": null,
   "metadata": {
    "colab": {
     "base_uri": "https://localhost:8080/",
     "height": 81
    },
    "id": "rPKN1UebD_eQ",
    "outputId": "74bac8c8-9000-4ccf-e0c8-5da0c3727118"
   },
   "outputs": [
    {
     "data": {
      "text/html": [
       "\n",
       "  <div id=\"df-5881ddbf-4edf-4d33-a498-5f7b2df40261\">\n",
       "    <div class=\"colab-df-container\">\n",
       "      <div>\n",
       "<style scoped>\n",
       "    .dataframe tbody tr th:only-of-type {\n",
       "        vertical-align: middle;\n",
       "    }\n",
       "\n",
       "    .dataframe tbody tr th {\n",
       "        vertical-align: top;\n",
       "    }\n",
       "\n",
       "    .dataframe thead th {\n",
       "        text-align: right;\n",
       "    }\n",
       "</style>\n",
       "<table border=\"1\" class=\"dataframe\">\n",
       "  <thead>\n",
       "    <tr style=\"text-align: right;\">\n",
       "      <th></th>\n",
       "      <th>Rank</th>\n",
       "      <th>Name</th>\n",
       "      <th>Platform</th>\n",
       "      <th>Year</th>\n",
       "      <th>Genre</th>\n",
       "      <th>Publisher</th>\n",
       "      <th>NA_Sales</th>\n",
       "      <th>EU_Sales</th>\n",
       "      <th>JP_Sales</th>\n",
       "      <th>Other_Sales</th>\n",
       "      <th>Global_Sales</th>\n",
       "      <th>Developer</th>\n",
       "    </tr>\n",
       "  </thead>\n",
       "  <tbody>\n",
       "    <tr>\n",
       "      <th>1044</th>\n",
       "      <td>1046</td>\n",
       "      <td>Ace Combat 5: The Unsung War</td>\n",
       "      <td>PS2</td>\n",
       "      <td>2004.0</td>\n",
       "      <td>Simulation</td>\n",
       "      <td>Sony Computer Entertainment Europe</td>\n",
       "      <td>0.88</td>\n",
       "      <td>0.34</td>\n",
       "      <td>0.32</td>\n",
       "      <td>0.18</td>\n",
       "      <td>1.71</td>\n",
       "      <td>Namco/Project ACES</td>\n",
       "    </tr>\n",
       "  </tbody>\n",
       "</table>\n",
       "</div>\n",
       "      <button class=\"colab-df-convert\" onclick=\"convertToInteractive('df-5881ddbf-4edf-4d33-a498-5f7b2df40261')\"\n",
       "              title=\"Convert this dataframe to an interactive table.\"\n",
       "              style=\"display:none;\">\n",
       "        \n",
       "  <svg xmlns=\"http://www.w3.org/2000/svg\" height=\"24px\"viewBox=\"0 0 24 24\"\n",
       "       width=\"24px\">\n",
       "    <path d=\"M0 0h24v24H0V0z\" fill=\"none\"/>\n",
       "    <path d=\"M18.56 5.44l.94 2.06.94-2.06 2.06-.94-2.06-.94-.94-2.06-.94 2.06-2.06.94zm-11 1L8.5 8.5l.94-2.06 2.06-.94-2.06-.94L8.5 2.5l-.94 2.06-2.06.94zm10 10l.94 2.06.94-2.06 2.06-.94-2.06-.94-.94-2.06-.94 2.06-2.06.94z\"/><path d=\"M17.41 7.96l-1.37-1.37c-.4-.4-.92-.59-1.43-.59-.52 0-1.04.2-1.43.59L10.3 9.45l-7.72 7.72c-.78.78-.78 2.05 0 2.83L4 21.41c.39.39.9.59 1.41.59.51 0 1.02-.2 1.41-.59l7.78-7.78 2.81-2.81c.8-.78.8-2.07 0-2.86zM5.41 20L4 18.59l7.72-7.72 1.47 1.35L5.41 20z\"/>\n",
       "  </svg>\n",
       "      </button>\n",
       "      \n",
       "  <style>\n",
       "    .colab-df-container {\n",
       "      display:flex;\n",
       "      flex-wrap:wrap;\n",
       "      gap: 12px;\n",
       "    }\n",
       "\n",
       "    .colab-df-convert {\n",
       "      background-color: #E8F0FE;\n",
       "      border: none;\n",
       "      border-radius: 50%;\n",
       "      cursor: pointer;\n",
       "      display: none;\n",
       "      fill: #1967D2;\n",
       "      height: 32px;\n",
       "      padding: 0 0 0 0;\n",
       "      width: 32px;\n",
       "    }\n",
       "\n",
       "    .colab-df-convert:hover {\n",
       "      background-color: #E2EBFA;\n",
       "      box-shadow: 0px 1px 2px rgba(60, 64, 67, 0.3), 0px 1px 3px 1px rgba(60, 64, 67, 0.15);\n",
       "      fill: #174EA6;\n",
       "    }\n",
       "\n",
       "    [theme=dark] .colab-df-convert {\n",
       "      background-color: #3B4455;\n",
       "      fill: #D2E3FC;\n",
       "    }\n",
       "\n",
       "    [theme=dark] .colab-df-convert:hover {\n",
       "      background-color: #434B5C;\n",
       "      box-shadow: 0px 1px 3px 1px rgba(0, 0, 0, 0.15);\n",
       "      filter: drop-shadow(0px 1px 2px rgba(0, 0, 0, 0.3));\n",
       "      fill: #FFFFFF;\n",
       "    }\n",
       "  </style>\n",
       "\n",
       "      <script>\n",
       "        const buttonEl =\n",
       "          document.querySelector('#df-5881ddbf-4edf-4d33-a498-5f7b2df40261 button.colab-df-convert');\n",
       "        buttonEl.style.display =\n",
       "          google.colab.kernel.accessAllowed ? 'block' : 'none';\n",
       "\n",
       "        async function convertToInteractive(key) {\n",
       "          const element = document.querySelector('#df-5881ddbf-4edf-4d33-a498-5f7b2df40261');\n",
       "          const dataTable =\n",
       "            await google.colab.kernel.invokeFunction('convertToInteractive',\n",
       "                                                     [key], {});\n",
       "          if (!dataTable) return;\n",
       "\n",
       "          const docLinkHtml = 'Like what you see? Visit the ' +\n",
       "            '<a target=\"_blank\" href=https://colab.research.google.com/notebooks/data_table.ipynb>data table notebook</a>'\n",
       "            + ' to learn more about interactive tables.';\n",
       "          element.innerHTML = '';\n",
       "          dataTable['output_type'] = 'display_data';\n",
       "          await google.colab.output.renderOutput(dataTable, element);\n",
       "          const docLink = document.createElement('div');\n",
       "          docLink.innerHTML = docLinkHtml;\n",
       "          element.appendChild(docLink);\n",
       "        }\n",
       "      </script>\n",
       "    </div>\n",
       "  </div>\n",
       "  "
      ],
      "text/plain": [
       "      Rank                          Name  ... Global_Sales           Developer\n",
       "1044  1046  Ace Combat 5: The Unsung War  ...         1.71  Namco/Project ACES\n",
       "\n",
       "[1 rows x 12 columns]"
      ]
     },
     "execution_count": 110,
     "metadata": {},
     "output_type": "execute_result"
    }
   ],
   "source": [
    "result_test[result_test['Name'] == 'Ace Combat 5: The Unsung War']"
   ]
  },
  {
   "cell_type": "markdown",
   "metadata": {
    "id": "FCLa_Jp_Es8m"
   },
   "source": [
    "Finally, we reordered the columns\n",
    "\n"
   ]
  },
  {
   "cell_type": "code",
   "execution_count": null,
   "metadata": {
    "id": "TuGmjnMKDNaj"
   },
   "outputs": [],
   "source": [
    "final = result_test[['Rank', 'Name', 'Platform', 'Year', 'Genre', 'Publisher', 'Developer', 'NA_Sales', 'EU_Sales', 'JP_Sales', 'Other_Sales', 'Global_Sales']]"
   ]
  },
  {
   "cell_type": "code",
   "execution_count": null,
   "metadata": {
    "id": "xKh3Hm7pH-E0"
   },
   "outputs": [],
   "source": [
    "final.to_csv('integratedvgsales.csv', index=False)"
   ]
  },
  {
   "cell_type": "code",
   "execution_count": null,
   "metadata": {
    "id": "5QxpvtfDSfIx"
   },
   "outputs": [],
   "source": [
    "final.loc[final['Year'] == 0, 'Year'] = np.nan"
   ]
  },
  {
   "cell_type": "code",
   "execution_count": null,
   "metadata": {
    "id": "Y01sGper5rVo"
   },
   "outputs": [],
   "source": [
    "df = pd.read_csv('integratedvgsales.csv')"
   ]
  },
  {
   "cell_type": "code",
   "execution_count": null,
   "metadata": {
    "id": "rSGli0A46EC0"
   },
   "outputs": [],
   "source": [
    "newdf = df[df['Year'] != 0]"
   ]
  },
  {
   "cell_type": "code",
   "execution_count": null,
   "metadata": {
    "colab": {
     "base_uri": "https://localhost:8080/",
     "height": 312
    },
    "id": "0ijAE9np59Hn",
    "outputId": "ba13bfcb-6aa8-4d24-b540-2dfc6ccb8d68"
   },
   "outputs": [
    {
     "data": {
      "text/plain": [
       "Text(0.5, 1.0, 'Global Sales in millions for each Year')"
      ]
     },
     "execution_count": 116,
     "metadata": {},
     "output_type": "execute_result"
    },
    {
     "data": {
      "image/png": "[encoded data removed]",
      "text/plain": [
       "<Figure size 432x288 with 1 Axes>"
      ]
     },
     "metadata": {
      "needs_background": "light"
     },
     "output_type": "display_data"
    }
   ],
   "source": [
    "plt.scatter('Year', 'Global_Sales', data=newdf)\n",
    "plt.xlabel('Year')\n",
    "plt.ylabel('Global Sales in millions')\n",
    "plt.title('Global Sales in millions for each Year')"
   ]
  },
  {
   "cell_type": "code",
   "execution_count": null,
   "metadata": {
    "colab": {
     "base_uri": "https://localhost:8080/",
     "height": 81
    },
    "id": "v8CSdamT6pnv",
    "outputId": "0a5c9e57-ced2-4a83-b112-ad29e98ceec5"
   },
   "outputs": [
    {
     "data": {
      "text/html": [
       "\n",
       "  <div id=\"df-5192b3d3-0dc2-4bff-bd50-cf5d8c2f83a8\">\n",
       "    <div class=\"colab-df-container\">\n",
       "      <div>\n",
       "<style scoped>\n",
       "    .dataframe tbody tr th:only-of-type {\n",
       "        vertical-align: middle;\n",
       "    }\n",
       "\n",
       "    .dataframe tbody tr th {\n",
       "        vertical-align: top;\n",
       "    }\n",
       "\n",
       "    .dataframe thead th {\n",
       "        text-align: right;\n",
       "    }\n",
       "</style>\n",
       "<table border=\"1\" class=\"dataframe\">\n",
       "  <thead>\n",
       "    <tr style=\"text-align: right;\">\n",
       "      <th></th>\n",
       "      <th>Rank</th>\n",
       "      <th>Name</th>\n",
       "      <th>Platform</th>\n",
       "      <th>Year</th>\n",
       "      <th>Genre</th>\n",
       "      <th>Publisher</th>\n",
       "      <th>Developer</th>\n",
       "      <th>NA_Sales</th>\n",
       "      <th>EU_Sales</th>\n",
       "      <th>JP_Sales</th>\n",
       "      <th>Other_Sales</th>\n",
       "      <th>Global_Sales</th>\n",
       "    </tr>\n",
       "  </thead>\n",
       "  <tbody>\n",
       "    <tr>\n",
       "      <th>0</th>\n",
       "      <td>1</td>\n",
       "      <td>Wii Sports</td>\n",
       "      <td>Wii</td>\n",
       "      <td>2006.0</td>\n",
       "      <td>Sports</td>\n",
       "      <td>Nintendo</td>\n",
       "      <td>Nintendo EAD</td>\n",
       "      <td>41.49</td>\n",
       "      <td>29.02</td>\n",
       "      <td>3.77</td>\n",
       "      <td>8.46</td>\n",
       "      <td>82.74</td>\n",
       "    </tr>\n",
       "  </tbody>\n",
       "</table>\n",
       "</div>\n",
       "      <button class=\"colab-df-convert\" onclick=\"convertToInteractive('df-5192b3d3-0dc2-4bff-bd50-cf5d8c2f83a8')\"\n",
       "              title=\"Convert this dataframe to an interactive table.\"\n",
       "              style=\"display:none;\">\n",
       "        \n",
       "  <svg xmlns=\"http://www.w3.org/2000/svg\" height=\"24px\"viewBox=\"0 0 24 24\"\n",
       "       width=\"24px\">\n",
       "    <path d=\"M0 0h24v24H0V0z\" fill=\"none\"/>\n",
       "    <path d=\"M18.56 5.44l.94 2.06.94-2.06 2.06-.94-2.06-.94-.94-2.06-.94 2.06-2.06.94zm-11 1L8.5 8.5l.94-2.06 2.06-.94-2.06-.94L8.5 2.5l-.94 2.06-2.06.94zm10 10l.94 2.06.94-2.06 2.06-.94-2.06-.94-.94-2.06-.94 2.06-2.06.94z\"/><path d=\"M17.41 7.96l-1.37-1.37c-.4-.4-.92-.59-1.43-.59-.52 0-1.04.2-1.43.59L10.3 9.45l-7.72 7.72c-.78.78-.78 2.05 0 2.83L4 21.41c.39.39.9.59 1.41.59.51 0 1.02-.2 1.41-.59l7.78-7.78 2.81-2.81c.8-.78.8-2.07 0-2.86zM5.41 20L4 18.59l7.72-7.72 1.47 1.35L5.41 20z\"/>\n",
       "  </svg>\n",
       "      </button>\n",
       "      \n",
       "  <style>\n",
       "    .colab-df-container {\n",
       "      display:flex;\n",
       "      flex-wrap:wrap;\n",
       "      gap: 12px;\n",
       "    }\n",
       "\n",
       "    .colab-df-convert {\n",
       "      background-color: #E8F0FE;\n",
       "      border: none;\n",
       "      border-radius: 50%;\n",
       "      cursor: pointer;\n",
       "      display: none;\n",
       "      fill: #1967D2;\n",
       "      height: 32px;\n",
       "      padding: 0 0 0 0;\n",
       "      width: 32px;\n",
       "    }\n",
       "\n",
       "    .colab-df-convert:hover {\n",
       "      background-color: #E2EBFA;\n",
       "      box-shadow: 0px 1px 2px rgba(60, 64, 67, 0.3), 0px 1px 3px 1px rgba(60, 64, 67, 0.15);\n",
       "      fill: #174EA6;\n",
       "    }\n",
       "\n",
       "    [theme=dark] .colab-df-convert {\n",
       "      background-color: #3B4455;\n",
       "      fill: #D2E3FC;\n",
       "    }\n",
       "\n",
       "    [theme=dark] .colab-df-convert:hover {\n",
       "      background-color: #434B5C;\n",
       "      box-shadow: 0px 1px 3px 1px rgba(0, 0, 0, 0.15);\n",
       "      filter: drop-shadow(0px 1px 2px rgba(0, 0, 0, 0.3));\n",
       "      fill: #FFFFFF;\n",
       "    }\n",
       "  </style>\n",
       "\n",
       "      <script>\n",
       "        const buttonEl =\n",
       "          document.querySelector('#df-5192b3d3-0dc2-4bff-bd50-cf5d8c2f83a8 button.colab-df-convert');\n",
       "        buttonEl.style.display =\n",
       "          google.colab.kernel.accessAllowed ? 'block' : 'none';\n",
       "\n",
       "        async function convertToInteractive(key) {\n",
       "          const element = document.querySelector('#df-5192b3d3-0dc2-4bff-bd50-cf5d8c2f83a8');\n",
       "          const dataTable =\n",
       "            await google.colab.kernel.invokeFunction('convertToInteractive',\n",
       "                                                     [key], {});\n",
       "          if (!dataTable) return;\n",
       "\n",
       "          const docLinkHtml = 'Like what you see? Visit the ' +\n",
       "            '<a target=\"_blank\" href=https://colab.research.google.com/notebooks/data_table.ipynb>data table notebook</a>'\n",
       "            + ' to learn more about interactive tables.';\n",
       "          element.innerHTML = '';\n",
       "          dataTable['output_type'] = 'display_data';\n",
       "          await google.colab.output.renderOutput(dataTable, element);\n",
       "          const docLink = document.createElement('div');\n",
       "          docLink.innerHTML = docLinkHtml;\n",
       "          element.appendChild(docLink);\n",
       "        }\n",
       "      </script>\n",
       "    </div>\n",
       "  </div>\n",
       "  "
      ],
      "text/plain": [
       "   Rank        Name Platform  ...  JP_Sales Other_Sales Global_Sales\n",
       "0     1  Wii Sports      Wii  ...      3.77        8.46        82.74\n",
       "\n",
       "[1 rows x 12 columns]"
      ]
     },
     "execution_count": 117,
     "metadata": {},
     "output_type": "execute_result"
    }
   ],
   "source": [
    "newdf[newdf['Global_Sales'] > 80]"
   ]
  },
  {
   "cell_type": "code",
   "execution_count": null,
   "metadata": {
    "colab": {
     "base_uri": "https://localhost:8080/",
     "height": 312
    },
    "id": "_vHE0BQh7Dem",
    "outputId": "8497e493-e3d5-479b-ab9e-4d887e0f5bf7"
   },
   "outputs": [
    {
     "data": {
      "text/plain": [
       "Text(0.5, 1.0, 'Global Sales in millions for each Year')"
      ]
     },
     "execution_count": 118,
     "metadata": {},
     "output_type": "execute_result"
    },
    {
     "data": {
      "image/png": "[encoded data removed]",
      "text/plain": [
       "<Figure size 432x288 with 1 Axes>"
      ]
     },
     "metadata": {
      "needs_background": "light"
     },
     "output_type": "display_data"
    }
   ],
   "source": [
    "temp = newdf[newdf['Global_Sales'] < 80]\n",
    "plt.scatter(temp['Year'], temp['Global_Sales'])\n",
    "plt.xlabel('Year')\n",
    "plt.ylabel('Global Sales in millions')\n",
    "plt.title('Global Sales in millions for each Year')"
   ]
  },
  {
   "cell_type": "code",
   "execution_count": null,
   "metadata": {
    "colab": {
     "base_uri": "https://localhost:8080/",
     "height": 402
    },
    "id": "xBjOUOwV7sjS",
    "outputId": "021d3671-95ba-4f72-f875-86be77a4228b"
   },
   "outputs": [
    {
     "data": {
      "text/plain": [
       "Text(0.5, 1.0, 'Global Sales for each Game for each Year')"
      ]
     },
     "execution_count": 119,
     "metadata": {},
     "output_type": "execute_result"
    },
    {
     "data": {
      "image/png": "[encoded data removed]",
      "text/plain": [
       "<Figure size 360x360 with 1 Axes>"
      ]
     },
     "metadata": {
      "needs_background": "light"
     },
     "output_type": "display_data"
    }
   ],
   "source": [
    "sns.lmplot(x='Year', y='Global_Sales', data=temp, fit_reg=True, line_kws={\"color\": \"red\"});\n",
    "plt.title('Global Sales for each Game for each Year')"
   ]
  },
  {
   "cell_type": "code",
   "execution_count": null,
   "metadata": {
    "id": "E3Is8TLT9Qz7"
   },
   "outputs": [],
   "source": [
    "genreDf = df.groupby(['Genre'])['Global_Sales'].mean().reset_index()\n",
    "genreDfMed = df.groupby(['Genre'])['Global_Sales'].median().reset_index()"
   ]
  },
  {
   "cell_type": "code",
   "execution_count": null,
   "metadata": {
    "colab": {
     "base_uri": "https://localhost:8080/",
     "height": 421
    },
    "id": "9JwYGbIs-qX-",
    "outputId": "73feaf6c-3c48-463f-922d-aead2ef9c328"
   },
   "outputs": [
    {
     "data": {
      "text/plain": [
       "Text(0.5, 1.0, 'Average Global Sales for each Genre')"
      ]
     },
     "execution_count": 121,
     "metadata": {},
     "output_type": "execute_result"
    },
    {
     "data": {
      "image/png": "[encoded data removed]",
      "text/plain": [
       "<Figure size 864x432 with 1 Axes>"
      ]
     },
     "metadata": {
      "needs_background": "light"
     },
     "output_type": "display_data"
    }
   ],
   "source": [
    "plt.figure(figsize=(12, 6))\n",
    "plt.bar(genreDf['Genre'], genreDf['Global_Sales'])\n",
    "plt.xlabel('Genre')\n",
    "plt.ylabel('Average Global Sales in millions')\n",
    "plt.title('Average Global Sales for each Genre')"
   ]
  },
  {
   "cell_type": "code",
   "execution_count": null,
   "metadata": {
    "colab": {
     "base_uri": "https://localhost:8080/",
     "height": 421
    },
    "id": "wY2JHjtU_CqJ",
    "outputId": "a903d3ad-5b36-40ee-dd19-90ccc34c49df"
   },
   "outputs": [
    {
     "data": {
      "text/plain": [
       "Text(0.5, 1.0, 'Median Global Sales for each Genre')"
      ]
     },
     "execution_count": 122,
     "metadata": {},
     "output_type": "execute_result"
    },
    {
     "data": {
      "image/png": "[encoded data removed]",
      "text/plain": [
       "<Figure size 864x432 with 1 Axes>"
      ]
     },
     "metadata": {
      "needs_background": "light"
     },
     "output_type": "display_data"
    }
   ],
   "source": [
    "plt.figure(figsize=(12, 6))\n",
    "plt.bar(genreDfMed['Genre'], genreDfMed['Global_Sales'])\n",
    "plt.xlabel('Genre')\n",
    "plt.ylabel('Median Global Sales in millions')\n",
    "plt.title('Median Global Sales for each Genre')"
   ]
  },
  {
   "cell_type": "code",
   "execution_count": null,
   "metadata": {
    "id": "U15zSQPHLtE_"
   },
   "outputs": [],
   "source": [
    "from sklearn import tree\n",
    "from sklearn.linear_model import LinearRegression, SGDRegressor\n",
    "from sklearn.model_selection import train_test_split\n",
    "from sklearn.ensemble import RandomForestRegressor\n",
    "from sklearn.metrics import r2_score"
   ]
  },
  {
   "cell_type": "markdown",
   "metadata": {
    "id": "pQZ20Cz3TaE1"
   },
   "source": [
    "Importing all possible algorithms to be used as well as libraries to test accuracy of our models"
   ]
  },
  {
   "cell_type": "code",
   "execution_count": null,
   "metadata": {
    "id": "97GYE03YSlRM"
   },
   "outputs": [],
   "source": [
    "cols = ['Platform',\t'Genre',\t'Developer',\t'Publisher']\n",
    "colsTwo = ['Platform', 'Genre']\n",
    "colsThree = ['Platform',\t'Genre',\t'Publisher']"
   ]
  },
  {
   "cell_type": "markdown",
   "metadata": {
    "id": "-vstI4TCTmno"
   },
   "source": [
    "The columns which we will create dummies for as they are categorical and sklearn libraries require numerical inputs\n",
    "\n",
    "The second column will not include developer and publisher as we will create a testing set without them"
   ]
  },
  {
   "cell_type": "code",
   "execution_count": null,
   "metadata": {
    "id": "WJLuJlWzSh98"
   },
   "outputs": [],
   "source": [
    "stuff = pd.get_dummies(final, columns=cols, drop_first=True)\n",
    "stuffTwo = pd.get_dummies(final,columns=colsTwo, drop_first=True)\n",
    "stuffThree = pd.get_dummies(final, columns=colsThree, drop_first=True)"
   ]
  },
  {
   "cell_type": "markdown",
   "metadata": {
    "id": "puXuCXwQ9oiv"
   },
   "source": [
    "Using the get_dummies function to turn our categorical values \n",
    "into numerical ones so that we can use them to train our model."
   ]
  },
  {
   "cell_type": "code",
   "execution_count": null,
   "metadata": {
    "id": "aUmIGTq9NKqG"
   },
   "outputs": [],
   "source": [
    "X = stuff.drop(columns=['Rank','Name','NA_Sales','EU_Sales','JP_Sales','Other_Sales','Global_Sales'])\n",
    "XTwo = stuffTwo.drop(columns=['Rank','Name','NA_Sales','EU_Sales','JP_Sales','Other_Sales','Global_Sales','Developer','Publisher'])\n",
    "XThree = stuffThree.drop(columns=['Rank','Name','NA_Sales','EU_Sales','JP_Sales','Other_Sales','Global_Sales','Developer'])"
   ]
  },
  {
   "cell_type": "markdown",
   "metadata": {
    "id": "0sgi51EOTvnr"
   },
   "source": [
    "We will be dropping these columns because they won't be necessary to compute the estimated sales.\n",
    "\n",
    "We will be left with: Platform, Year, Genre, Publisher, Developer\n",
    "\n",
    "For our second testing and training set, we will drop publisher and developer to see if we got better results "
   ]
  },
  {
   "cell_type": "code",
   "execution_count": null,
   "metadata": {
    "id": "Op40v3TdNV9T"
   },
   "outputs": [],
   "source": [
    "y = final['Global_Sales']\n",
    "yTwo = final['Global_Sales']\n",
    "yThree = final['Global_Sales']"
   ]
  },
  {
   "cell_type": "code",
   "execution_count": null,
   "metadata": {
    "id": "bcuuJfJSNm4q"
   },
   "outputs": [],
   "source": [
    "X_train, X_test, y_train, y_test = train_test_split(X, y, test_size=0.2)\n",
    "X_train_two, X_test_two, y_train_two, y_test_two = train_test_split(XTwo, yTwo, test_size=0.2)"
   ]
  },
  {
   "cell_type": "markdown",
   "metadata": {
    "id": "ien8Xe1mUXO9"
   },
   "source": [
    "Splitting the data into a training set and a testing set, 20% of the dataset will be used as a testing set while the other 80% will be used to train"
   ]
  },
  {
   "cell_type": "code",
   "execution_count": null,
   "metadata": {
    "id": "CJfszg7bX8ZL"
   },
   "outputs": [],
   "source": [
    "X_train.fillna(X_train['Year'].median(), inplace = True)\n",
    "X_test.fillna(X_test['Year'].median(), inplace = True)\n",
    "X_train_two.fillna(X_train_two['Year'].median(), inplace = True)\n",
    "X_test_two.fillna(X_test_two['Year'].median(), inplace = True)"
   ]
  },
  {
   "cell_type": "markdown",
   "metadata": {
    "id": "9i1ZNxX1-A6Y"
   },
   "source": [
    "There are missing values for year in our datasets, so we will replace them with the mode of that dataset. We make sure to use the mode of that dataset so that no data leakage happens."
   ]
  },
  {
   "cell_type": "code",
   "execution_count": null,
   "metadata": {
    "id": "rpEaSpq8Usft"
   },
   "outputs": [],
   "source": [
    "linear = LinearRegression()\n",
    "linear_two = LinearRegression()\n",
    "decision = tree.DecisionTreeRegressor()\n",
    "decision_two = tree.DecisionTreeRegressor()\n",
    "forest = RandomForestRegressor()\n",
    "forest_two = RandomForestRegressor()\n",
    "sgd = SGDRegressor()\n",
    "sgd_two = SGDRegressor()"
   ]
  },
  {
   "cell_type": "markdown",
   "metadata": {
    "id": "sj4t0yQKUunM"
   },
   "source": [
    "This is where we create the model. We decided to create multiple models to see which one gives the best result as we had trouble finding an algorithm that fit well."
   ]
  },
  {
   "cell_type": "code",
   "execution_count": null,
   "metadata": {
    "colab": {
     "base_uri": "https://localhost:8080/"
    },
    "id": "ULJz_5LpPZNl",
    "outputId": "12f16376-b6cb-4a19-8d7e-7b5fe19648ab"
   },
   "outputs": [
    {
     "data": {
      "text/plain": [
       "SGDRegressor()"
      ]
     },
     "execution_count": 131,
     "metadata": {},
     "output_type": "execute_result"
    }
   ],
   "source": [
    "linear.fit(X_train, y_train)\n",
    "decision.fit(X_train,y_train)\n",
    "linear_two.fit(X_train_two, y_train_two)\n",
    "decision_two.fit(X_train_two,y_train_two)\n",
    "forest.fit(X_train, y_train)\n",
    "forest_two.fit(X_train_two,y_train_two)\n",
    "sgd.fit(X_train, y_train)\n",
    "sgd_two.fit(X_train_two, y_train_two)"
   ]
  },
  {
   "cell_type": "markdown",
   "metadata": {
    "id": "JNEz7wH1-VYB"
   },
   "source": [
    "This is where we train our models with their respective datasets. The ones with two are the ones training on datasets without developer and publisher."
   ]
  },
  {
   "cell_type": "code",
   "execution_count": null,
   "metadata": {
    "id": "5iqcL5eNQg-G"
   },
   "outputs": [],
   "source": [
    "linear_prediction = linear.predict(X_test)\n",
    "decision_prediction = decision.predict(X_test)\n",
    "forest_prediction = forest.predict(X_test)\n",
    "sgd_prediction = sgd.predict(X_test)\n",
    "\n",
    "linear_prediction_two = linear_two.predict(X_test_two)\n",
    "decision_prediction_two = decision_two.predict(X_test_two)\n",
    "forest_prediction_two = forest_two.predict(X_test_two)\n",
    "sgd_prediction_two = sgd_two.predict(X_test_two)"
   ]
  },
  {
   "cell_type": "markdown",
   "metadata": {
    "id": "ydejOFQ6-kkt"
   },
   "source": [
    "Now that the models have been created, we use it to predict on the testing part of the dataset."
   ]
  },
  {
   "cell_type": "code",
   "execution_count": null,
   "metadata": {
    "id": "zASEqTUhQult"
   },
   "outputs": [],
   "source": [
    "linear_r_score = r2_score(y_test, linear_prediction)\n",
    "decision_score = r2_score(y_test, decision_prediction)\n",
    "forest_score = r2_score(y_test, forest_prediction)\n",
    "sgd_score = r2_score(y_test,sgd_prediction)\n",
    "\n",
    "linear_r_score_two = r2_score(y_test_two, linear_prediction_two)\n",
    "decision_score_two = r2_score(y_test_two, decision_prediction_two)\n",
    "forest_score_two = r2_score(y_test_two, forest_prediction_two)\n",
    "sgd_score_two = r2_score(y_test_two, sgd_prediction_two)"
   ]
  },
  {
   "cell_type": "markdown",
   "metadata": {
    "id": "hH4En3h_U-29"
   },
   "source": [
    "Since our target dataset is continuous, we used r2 score to determine the accuraccy of our models. The closer it is to 1 or 100% the more accurate our model is."
   ]
  },
  {
   "cell_type": "code",
   "execution_count": null,
   "metadata": {
    "colab": {
     "base_uri": "https://localhost:8080/",
     "height": 424
    },
    "id": "In3OJn8lRX0k",
    "outputId": "cbc69950-97c6-4a71-d696-811b79a8696c"
   },
   "outputs": [
    {
     "data": {
      "text/html": [
       "\n",
       "  <div id=\"df-83fc0e54-caac-44a5-8bf8-0e25959ba5eb\">\n",
       "    <div class=\"colab-df-container\">\n",
       "      <div>\n",
       "<style scoped>\n",
       "    .dataframe tbody tr th:only-of-type {\n",
       "        vertical-align: middle;\n",
       "    }\n",
       "\n",
       "    .dataframe tbody tr th {\n",
       "        vertical-align: top;\n",
       "    }\n",
       "\n",
       "    .dataframe thead th {\n",
       "        text-align: right;\n",
       "    }\n",
       "</style>\n",
       "<table border=\"1\" class=\"dataframe\">\n",
       "  <thead>\n",
       "    <tr style=\"text-align: right;\">\n",
       "      <th></th>\n",
       "      <th>Actual</th>\n",
       "      <th>Predicted</th>\n",
       "    </tr>\n",
       "  </thead>\n",
       "  <tbody>\n",
       "    <tr>\n",
       "      <th>1198</th>\n",
       "      <td>1.55</td>\n",
       "      <td>0.754298</td>\n",
       "    </tr>\n",
       "    <tr>\n",
       "      <th>15315</th>\n",
       "      <td>0.02</td>\n",
       "      <td>0.247369</td>\n",
       "    </tr>\n",
       "    <tr>\n",
       "      <th>13647</th>\n",
       "      <td>0.04</td>\n",
       "      <td>0.770268</td>\n",
       "    </tr>\n",
       "    <tr>\n",
       "      <th>15805</th>\n",
       "      <td>0.02</td>\n",
       "      <td>0.417227</td>\n",
       "    </tr>\n",
       "    <tr>\n",
       "      <th>1468</th>\n",
       "      <td>1.33</td>\n",
       "      <td>0.940004</td>\n",
       "    </tr>\n",
       "    <tr>\n",
       "      <th>...</th>\n",
       "      <td>...</td>\n",
       "      <td>...</td>\n",
       "    </tr>\n",
       "    <tr>\n",
       "      <th>3629</th>\n",
       "      <td>0.55</td>\n",
       "      <td>0.525557</td>\n",
       "    </tr>\n",
       "    <tr>\n",
       "      <th>8728</th>\n",
       "      <td>0.15</td>\n",
       "      <td>0.410777</td>\n",
       "    </tr>\n",
       "    <tr>\n",
       "      <th>13431</th>\n",
       "      <td>0.05</td>\n",
       "      <td>0.667750</td>\n",
       "    </tr>\n",
       "    <tr>\n",
       "      <th>9695</th>\n",
       "      <td>0.12</td>\n",
       "      <td>0.454854</td>\n",
       "    </tr>\n",
       "    <tr>\n",
       "      <th>880</th>\n",
       "      <td>1.94</td>\n",
       "      <td>2.932860</td>\n",
       "    </tr>\n",
       "  </tbody>\n",
       "</table>\n",
       "<p>3320 rows × 2 columns</p>\n",
       "</div>\n",
       "      <button class=\"colab-df-convert\" onclick=\"convertToInteractive('df-83fc0e54-caac-44a5-8bf8-0e25959ba5eb')\"\n",
       "              title=\"Convert this dataframe to an interactive table.\"\n",
       "              style=\"display:none;\">\n",
       "        \n",
       "  <svg xmlns=\"http://www.w3.org/2000/svg\" height=\"24px\"viewBox=\"0 0 24 24\"\n",
       "       width=\"24px\">\n",
       "    <path d=\"M0 0h24v24H0V0z\" fill=\"none\"/>\n",
       "    <path d=\"M18.56 5.44l.94 2.06.94-2.06 2.06-.94-2.06-.94-.94-2.06-.94 2.06-2.06.94zm-11 1L8.5 8.5l.94-2.06 2.06-.94-2.06-.94L8.5 2.5l-.94 2.06-2.06.94zm10 10l.94 2.06.94-2.06 2.06-.94-2.06-.94-.94-2.06-.94 2.06-2.06.94z\"/><path d=\"M17.41 7.96l-1.37-1.37c-.4-.4-.92-.59-1.43-.59-.52 0-1.04.2-1.43.59L10.3 9.45l-7.72 7.72c-.78.78-.78 2.05 0 2.83L4 21.41c.39.39.9.59 1.41.59.51 0 1.02-.2 1.41-.59l7.78-7.78 2.81-2.81c.8-.78.8-2.07 0-2.86zM5.41 20L4 18.59l7.72-7.72 1.47 1.35L5.41 20z\"/>\n",
       "  </svg>\n",
       "      </button>\n",
       "      \n",
       "  <style>\n",
       "    .colab-df-container {\n",
       "      display:flex;\n",
       "      flex-wrap:wrap;\n",
       "      gap: 12px;\n",
       "    }\n",
       "\n",
       "    .colab-df-convert {\n",
       "      background-color: #E8F0FE;\n",
       "      border: none;\n",
       "      border-radius: 50%;\n",
       "      cursor: pointer;\n",
       "      display: none;\n",
       "      fill: #1967D2;\n",
       "      height: 32px;\n",
       "      padding: 0 0 0 0;\n",
       "      width: 32px;\n",
       "    }\n",
       "\n",
       "    .colab-df-convert:hover {\n",
       "      background-color: #E2EBFA;\n",
       "      box-shadow: 0px 1px 2px rgba(60, 64, 67, 0.3), 0px 1px 3px 1px rgba(60, 64, 67, 0.15);\n",
       "      fill: #174EA6;\n",
       "    }\n",
       "\n",
       "    [theme=dark] .colab-df-convert {\n",
       "      background-color: #3B4455;\n",
       "      fill: #D2E3FC;\n",
       "    }\n",
       "\n",
       "    [theme=dark] .colab-df-convert:hover {\n",
       "      background-color: #434B5C;\n",
       "      box-shadow: 0px 1px 3px 1px rgba(0, 0, 0, 0.15);\n",
       "      filter: drop-shadow(0px 1px 2px rgba(0, 0, 0, 0.3));\n",
       "      fill: #FFFFFF;\n",
       "    }\n",
       "  </style>\n",
       "\n",
       "      <script>\n",
       "        const buttonEl =\n",
       "          document.querySelector('#df-83fc0e54-caac-44a5-8bf8-0e25959ba5eb button.colab-df-convert');\n",
       "        buttonEl.style.display =\n",
       "          google.colab.kernel.accessAllowed ? 'block' : 'none';\n",
       "\n",
       "        async function convertToInteractive(key) {\n",
       "          const element = document.querySelector('#df-83fc0e54-caac-44a5-8bf8-0e25959ba5eb');\n",
       "          const dataTable =\n",
       "            await google.colab.kernel.invokeFunction('convertToInteractive',\n",
       "                                                     [key], {});\n",
       "          if (!dataTable) return;\n",
       "\n",
       "          const docLinkHtml = 'Like what you see? Visit the ' +\n",
       "            '<a target=\"_blank\" href=https://colab.research.google.com/notebooks/data_table.ipynb>data table notebook</a>'\n",
       "            + ' to learn more about interactive tables.';\n",
       "          element.innerHTML = '';\n",
       "          dataTable['output_type'] = 'display_data';\n",
       "          await google.colab.output.renderOutput(dataTable, element);\n",
       "          const docLink = document.createElement('div');\n",
       "          docLink.innerHTML = docLinkHtml;\n",
       "          element.appendChild(docLink);\n",
       "        }\n",
       "      </script>\n",
       "    </div>\n",
       "  </div>\n",
       "  "
      ],
      "text/plain": [
       "       Actual  Predicted\n",
       "1198     1.55   0.754298\n",
       "15315    0.02   0.247369\n",
       "13647    0.04   0.770268\n",
       "15805    0.02   0.417227\n",
       "1468     1.33   0.940004\n",
       "...       ...        ...\n",
       "3629     0.55   0.525557\n",
       "8728     0.15   0.410777\n",
       "13431    0.05   0.667750\n",
       "9695     0.12   0.454854\n",
       "880      1.94   2.932860\n",
       "\n",
       "[3320 rows x 2 columns]"
      ]
     },
     "execution_count": 134,
     "metadata": {},
     "output_type": "execute_result"
    }
   ],
   "source": [
    "d = {'Actual': y_test_two, 'Predicted': linear_prediction_two}\n",
    "compare = pd.DataFrame(data=d)\n",
    "compare"
   ]
  },
  {
   "cell_type": "markdown",
   "metadata": {
    "id": "Wlgx8uuPevm6"
   },
   "source": [
    "I think Linear Regression doesn't do too well because the sales in the data set aren't linear, they drop off really quickly, closer to exponential than linear with a lot of sales being 0 to 1 \n",
    "\n",
    "Model accuracies so far:\n",
    "\n",
    "LinearRegression() - pretty bad, accuracy is a really large(?) negative number. Without developer and publisher features, LinearRegression averages about 5% accuracy, but everything else has negative accuracy.\n",
    "\n",
    "tree.DecisionTreeRegressor() - fluctuates a lot goes from ~ -20 to 30 % (sometimes is a very large negative number ~70% still not as high as linear regression though)\n",
    "\n",
    "RandomForestRegressor() - I think this one is a decision tree but with a bunch of small ones (?) supposed to be more accurate with a big data set, but this one takes a VERY long time to run so I don't have a lot of results to to work with. First test: 28% Second test: 30% Third test: -3% Fourth test: 0% Fifth test: 27%\n",
    "\n",
    "SGDRegressor() - Fast, but very large negative number like LinearRegression."
   ]
  },
  {
   "cell_type": "code",
   "execution_count": null,
   "metadata": {
    "colab": {
     "base_uri": "https://localhost:8080/",
     "height": 300
    },
    "id": "3OdSLDm_jfd0",
    "outputId": "495a11c8-e8d0-4808-a95c-34d73c23a9ff"
   },
   "outputs": [
    {
     "data": {
      "text/html": [
       "\n",
       "  <div id=\"df-0ecc1ace-e489-4178-b1c7-ac771fe74a76\">\n",
       "    <div class=\"colab-df-container\">\n",
       "      <div>\n",
       "<style scoped>\n",
       "    .dataframe tbody tr th:only-of-type {\n",
       "        vertical-align: middle;\n",
       "    }\n",
       "\n",
       "    .dataframe tbody tr th {\n",
       "        vertical-align: top;\n",
       "    }\n",
       "\n",
       "    .dataframe thead th {\n",
       "        text-align: right;\n",
       "    }\n",
       "</style>\n",
       "<table border=\"1\" class=\"dataframe\">\n",
       "  <thead>\n",
       "    <tr style=\"text-align: right;\">\n",
       "      <th></th>\n",
       "      <th>Name</th>\n",
       "      <th>R_score (Percentage)</th>\n",
       "    </tr>\n",
       "  </thead>\n",
       "  <tbody>\n",
       "    <tr>\n",
       "      <th>0</th>\n",
       "      <td>Linear Regression</td>\n",
       "      <td>-1.219429e+21</td>\n",
       "    </tr>\n",
       "    <tr>\n",
       "      <th>1</th>\n",
       "      <td>Decision Tree</td>\n",
       "      <td>-4.305908e+01</td>\n",
       "    </tr>\n",
       "    <tr>\n",
       "      <th>2</th>\n",
       "      <td>Random Forest Regressor</td>\n",
       "      <td>3.074513e+00</td>\n",
       "    </tr>\n",
       "    <tr>\n",
       "      <th>3</th>\n",
       "      <td>SGDRegressor</td>\n",
       "      <td>-3.900729e+31</td>\n",
       "    </tr>\n",
       "    <tr>\n",
       "      <th>4</th>\n",
       "      <td>Linear Regression w/o</td>\n",
       "      <td>3.553076e+00</td>\n",
       "    </tr>\n",
       "    <tr>\n",
       "      <th>5</th>\n",
       "      <td>Decision Tree w/o</td>\n",
       "      <td>-2.605531e+01</td>\n",
       "    </tr>\n",
       "    <tr>\n",
       "      <th>6</th>\n",
       "      <td>Forest w/o</td>\n",
       "      <td>-1.809363e+01</td>\n",
       "    </tr>\n",
       "    <tr>\n",
       "      <th>7</th>\n",
       "      <td>SGDRegressor w/o</td>\n",
       "      <td>-1.005120e+32</td>\n",
       "    </tr>\n",
       "  </tbody>\n",
       "</table>\n",
       "</div>\n",
       "      <button class=\"colab-df-convert\" onclick=\"convertToInteractive('df-0ecc1ace-e489-4178-b1c7-ac771fe74a76')\"\n",
       "              title=\"Convert this dataframe to an interactive table.\"\n",
       "              style=\"display:none;\">\n",
       "        \n",
       "  <svg xmlns=\"http://www.w3.org/2000/svg\" height=\"24px\"viewBox=\"0 0 24 24\"\n",
       "       width=\"24px\">\n",
       "    <path d=\"M0 0h24v24H0V0z\" fill=\"none\"/>\n",
       "    <path d=\"M18.56 5.44l.94 2.06.94-2.06 2.06-.94-2.06-.94-.94-2.06-.94 2.06-2.06.94zm-11 1L8.5 8.5l.94-2.06 2.06-.94-2.06-.94L8.5 2.5l-.94 2.06-2.06.94zm10 10l.94 2.06.94-2.06 2.06-.94-2.06-.94-.94-2.06-.94 2.06-2.06.94z\"/><path d=\"M17.41 7.96l-1.37-1.37c-.4-.4-.92-.59-1.43-.59-.52 0-1.04.2-1.43.59L10.3 9.45l-7.72 7.72c-.78.78-.78 2.05 0 2.83L4 21.41c.39.39.9.59 1.41.59.51 0 1.02-.2 1.41-.59l7.78-7.78 2.81-2.81c.8-.78.8-2.07 0-2.86zM5.41 20L4 18.59l7.72-7.72 1.47 1.35L5.41 20z\"/>\n",
       "  </svg>\n",
       "      </button>\n",
       "      \n",
       "  <style>\n",
       "    .colab-df-container {\n",
       "      display:flex;\n",
       "      flex-wrap:wrap;\n",
       "      gap: 12px;\n",
       "    }\n",
       "\n",
       "    .colab-df-convert {\n",
       "      background-color: #E8F0FE;\n",
       "      border: none;\n",
       "      border-radius: 50%;\n",
       "      cursor: pointer;\n",
       "      display: none;\n",
       "      fill: #1967D2;\n",
       "      height: 32px;\n",
       "      padding: 0 0 0 0;\n",
       "      width: 32px;\n",
       "    }\n",
       "\n",
       "    .colab-df-convert:hover {\n",
       "      background-color: #E2EBFA;\n",
       "      box-shadow: 0px 1px 2px rgba(60, 64, 67, 0.3), 0px 1px 3px 1px rgba(60, 64, 67, 0.15);\n",
       "      fill: #174EA6;\n",
       "    }\n",
       "\n",
       "    [theme=dark] .colab-df-convert {\n",
       "      background-color: #3B4455;\n",
       "      fill: #D2E3FC;\n",
       "    }\n",
       "\n",
       "    [theme=dark] .colab-df-convert:hover {\n",
       "      background-color: #434B5C;\n",
       "      box-shadow: 0px 1px 3px 1px rgba(0, 0, 0, 0.15);\n",
       "      filter: drop-shadow(0px 1px 2px rgba(0, 0, 0, 0.3));\n",
       "      fill: #FFFFFF;\n",
       "    }\n",
       "  </style>\n",
       "\n",
       "      <script>\n",
       "        const buttonEl =\n",
       "          document.querySelector('#df-0ecc1ace-e489-4178-b1c7-ac771fe74a76 button.colab-df-convert');\n",
       "        buttonEl.style.display =\n",
       "          google.colab.kernel.accessAllowed ? 'block' : 'none';\n",
       "\n",
       "        async function convertToInteractive(key) {\n",
       "          const element = document.querySelector('#df-0ecc1ace-e489-4178-b1c7-ac771fe74a76');\n",
       "          const dataTable =\n",
       "            await google.colab.kernel.invokeFunction('convertToInteractive',\n",
       "                                                     [key], {});\n",
       "          if (!dataTable) return;\n",
       "\n",
       "          const docLinkHtml = 'Like what you see? Visit the ' +\n",
       "            '<a target=\"_blank\" href=https://colab.research.google.com/notebooks/data_table.ipynb>data table notebook</a>'\n",
       "            + ' to learn more about interactive tables.';\n",
       "          element.innerHTML = '';\n",
       "          dataTable['output_type'] = 'display_data';\n",
       "          await google.colab.output.renderOutput(dataTable, element);\n",
       "          const docLink = document.createElement('div');\n",
       "          docLink.innerHTML = docLinkHtml;\n",
       "          element.appendChild(docLink);\n",
       "        }\n",
       "      </script>\n",
       "    </div>\n",
       "  </div>\n",
       "  "
      ],
      "text/plain": [
       "                      Name  R_score (Percentage)\n",
       "0        Linear Regression         -1.219429e+21\n",
       "1            Decision Tree         -4.305908e+01\n",
       "2  Random Forest Regressor          3.074513e+00\n",
       "3             SGDRegressor         -3.900729e+31\n",
       "4    Linear Regression w/o          3.553076e+00\n",
       "5        Decision Tree w/o         -2.605531e+01\n",
       "6               Forest w/o         -1.809363e+01\n",
       "7         SGDRegressor w/o         -1.005120e+32"
      ]
     },
     "execution_count": 135,
     "metadata": {},
     "output_type": "execute_result"
    }
   ],
   "source": [
    "model_d = {'Name' : ['Linear Regression','Decision Tree', 'Random Forest Regressor', 'SGDRegressor','Linear Regression w/o',\n",
    "                     'Decision Tree w/o', 'Forest w/o', 'SGDRegressor w/o'], \n",
    "           'R_score (Percentage)' : [linear_r_score * 100, decision_score * 100, forest_score * 100, sgd_score * 100, \n",
    "                                     linear_r_score_two * 100, decision_score_two * 100, \n",
    "                                     forest_score_two * 100, sgd_score_two * 100 ]}\n",
    "model_compare = pd.DataFrame(data=model_d)\n",
    "model_compare"
   ]
  },
  {
   "cell_type": "markdown",
   "metadata": {
    "id": "VidE6lveDueK"
   },
   "source": [
    "The models we used and their respective R2 scores."
   ]
  },
  {
   "cell_type": "code",
   "execution_count": null,
   "metadata": {
    "colab": {
     "base_uri": "https://localhost:8080/",
     "height": 206
    },
    "id": "HdbjeZplwASv",
    "outputId": "eca2c60f-5ecb-4546-d045-3f89a71487d5"
   },
   "outputs": [
    {
     "data": {
      "text/html": [
       "\n",
       "  <div id=\"df-5a4b98ac-9e46-4dbe-83a3-775d94922066\">\n",
       "    <div class=\"colab-df-container\">\n",
       "      <div>\n",
       "<style scoped>\n",
       "    .dataframe tbody tr th:only-of-type {\n",
       "        vertical-align: middle;\n",
       "    }\n",
       "\n",
       "    .dataframe tbody tr th {\n",
       "        vertical-align: top;\n",
       "    }\n",
       "\n",
       "    .dataframe thead th {\n",
       "        text-align: right;\n",
       "    }\n",
       "</style>\n",
       "<table border=\"1\" class=\"dataframe\">\n",
       "  <thead>\n",
       "    <tr style=\"text-align: right;\">\n",
       "      <th></th>\n",
       "      <th>Coefficients</th>\n",
       "    </tr>\n",
       "  </thead>\n",
       "  <tbody>\n",
       "    <tr>\n",
       "      <th>Platform_GB</th>\n",
       "      <td>2.568408</td>\n",
       "    </tr>\n",
       "    <tr>\n",
       "      <th>Platform_NES</th>\n",
       "      <td>2.170261</td>\n",
       "    </tr>\n",
       "    <tr>\n",
       "      <th>Platform_PS4</th>\n",
       "      <td>1.551071</td>\n",
       "    </tr>\n",
       "    <tr>\n",
       "      <th>Platform_XOne</th>\n",
       "      <td>1.306218</td>\n",
       "    </tr>\n",
       "    <tr>\n",
       "      <th>Platform_PS3</th>\n",
       "      <td>1.237713</td>\n",
       "    </tr>\n",
       "  </tbody>\n",
       "</table>\n",
       "</div>\n",
       "      <button class=\"colab-df-convert\" onclick=\"convertToInteractive('df-5a4b98ac-9e46-4dbe-83a3-775d94922066')\"\n",
       "              title=\"Convert this dataframe to an interactive table.\"\n",
       "              style=\"display:none;\">\n",
       "        \n",
       "  <svg xmlns=\"http://www.w3.org/2000/svg\" height=\"24px\"viewBox=\"0 0 24 24\"\n",
       "       width=\"24px\">\n",
       "    <path d=\"M0 0h24v24H0V0z\" fill=\"none\"/>\n",
       "    <path d=\"M18.56 5.44l.94 2.06.94-2.06 2.06-.94-2.06-.94-.94-2.06-.94 2.06-2.06.94zm-11 1L8.5 8.5l.94-2.06 2.06-.94-2.06-.94L8.5 2.5l-.94 2.06-2.06.94zm10 10l.94 2.06.94-2.06 2.06-.94-2.06-.94-.94-2.06-.94 2.06-2.06.94z\"/><path d=\"M17.41 7.96l-1.37-1.37c-.4-.4-.92-.59-1.43-.59-.52 0-1.04.2-1.43.59L10.3 9.45l-7.72 7.72c-.78.78-.78 2.05 0 2.83L4 21.41c.39.39.9.59 1.41.59.51 0 1.02-.2 1.41-.59l7.78-7.78 2.81-2.81c.8-.78.8-2.07 0-2.86zM5.41 20L4 18.59l7.72-7.72 1.47 1.35L5.41 20z\"/>\n",
       "  </svg>\n",
       "      </button>\n",
       "      \n",
       "  <style>\n",
       "    .colab-df-container {\n",
       "      display:flex;\n",
       "      flex-wrap:wrap;\n",
       "      gap: 12px;\n",
       "    }\n",
       "\n",
       "    .colab-df-convert {\n",
       "      background-color: #E8F0FE;\n",
       "      border: none;\n",
       "      border-radius: 50%;\n",
       "      cursor: pointer;\n",
       "      display: none;\n",
       "      fill: #1967D2;\n",
       "      height: 32px;\n",
       "      padding: 0 0 0 0;\n",
       "      width: 32px;\n",
       "    }\n",
       "\n",
       "    .colab-df-convert:hover {\n",
       "      background-color: #E2EBFA;\n",
       "      box-shadow: 0px 1px 2px rgba(60, 64, 67, 0.3), 0px 1px 3px 1px rgba(60, 64, 67, 0.15);\n",
       "      fill: #174EA6;\n",
       "    }\n",
       "\n",
       "    [theme=dark] .colab-df-convert {\n",
       "      background-color: #3B4455;\n",
       "      fill: #D2E3FC;\n",
       "    }\n",
       "\n",
       "    [theme=dark] .colab-df-convert:hover {\n",
       "      background-color: #434B5C;\n",
       "      box-shadow: 0px 1px 3px 1px rgba(0, 0, 0, 0.15);\n",
       "      filter: drop-shadow(0px 1px 2px rgba(0, 0, 0, 0.3));\n",
       "      fill: #FFFFFF;\n",
       "    }\n",
       "  </style>\n",
       "\n",
       "      <script>\n",
       "        const buttonEl =\n",
       "          document.querySelector('#df-5a4b98ac-9e46-4dbe-83a3-775d94922066 button.colab-df-convert');\n",
       "        buttonEl.style.display =\n",
       "          google.colab.kernel.accessAllowed ? 'block' : 'none';\n",
       "\n",
       "        async function convertToInteractive(key) {\n",
       "          const element = document.querySelector('#df-5a4b98ac-9e46-4dbe-83a3-775d94922066');\n",
       "          const dataTable =\n",
       "            await google.colab.kernel.invokeFunction('convertToInteractive',\n",
       "                                                     [key], {});\n",
       "          if (!dataTable) return;\n",
       "\n",
       "          const docLinkHtml = 'Like what you see? Visit the ' +\n",
       "            '<a target=\"_blank\" href=https://colab.research.google.com/notebooks/data_table.ipynb>data table notebook</a>'\n",
       "            + ' to learn more about interactive tables.';\n",
       "          element.innerHTML = '';\n",
       "          dataTable['output_type'] = 'display_data';\n",
       "          await google.colab.output.renderOutput(dataTable, element);\n",
       "          const docLink = document.createElement('div');\n",
       "          docLink.innerHTML = docLinkHtml;\n",
       "          element.appendChild(docLink);\n",
       "        }\n",
       "      </script>\n",
       "    </div>\n",
       "  </div>\n",
       "  "
      ],
      "text/plain": [
       "               Coefficients\n",
       "Platform_GB        2.568408\n",
       "Platform_NES       2.170261\n",
       "Platform_PS4       1.551071\n",
       "Platform_XOne      1.306218\n",
       "Platform_PS3       1.237713"
      ]
     },
     "execution_count": 136,
     "metadata": {},
     "output_type": "execute_result"
    }
   ],
   "source": [
    "linear_coef = pd.DataFrame(linear_two.coef_,  columns=['Coefficients'], index=X_train_two.columns)\n",
    "linear_coef = linear_coef.sort_values(by=['Coefficients'],ascending=False)\n",
    "linear_coef.head()"
   ]
  },
  {
   "cell_type": "markdown",
   "metadata": {
    "id": "oQrRqCBKD7j5"
   },
   "source": [
    "The linear coefficients of the linear regression model on the dataset without publisher and developer"
   ]
  },
  {
   "cell_type": "code",
   "execution_count": null,
   "metadata": {
    "colab": {
     "base_uri": "https://localhost:8080/",
     "height": 206
    },
    "id": "czpa9qTvzzEw",
    "outputId": "aec80d34-e788-4812-d9d3-6ce52e510a6e"
   },
   "outputs": [
    {
     "data": {
      "text/html": [
       "\n",
       "  <div id=\"df-1860c058-aec7-483a-b39c-20b59b34c2b0\">\n",
       "    <div class=\"colab-df-container\">\n",
       "      <div>\n",
       "<style scoped>\n",
       "    .dataframe tbody tr th:only-of-type {\n",
       "        vertical-align: middle;\n",
       "    }\n",
       "\n",
       "    .dataframe tbody tr th {\n",
       "        vertical-align: top;\n",
       "    }\n",
       "\n",
       "    .dataframe thead th {\n",
       "        text-align: right;\n",
       "    }\n",
       "</style>\n",
       "<table border=\"1\" class=\"dataframe\">\n",
       "  <thead>\n",
       "    <tr style=\"text-align: right;\">\n",
       "      <th></th>\n",
       "      <th>Feature Names</th>\n",
       "      <th>Coefficients</th>\n",
       "    </tr>\n",
       "  </thead>\n",
       "  <tbody>\n",
       "    <tr>\n",
       "      <th>0</th>\n",
       "      <td>Year</td>\n",
       "      <td>0.234723</td>\n",
       "    </tr>\n",
       "    <tr>\n",
       "      <th>1303</th>\n",
       "      <td>Developer_Nintendo EAD</td>\n",
       "      <td>0.127091</td>\n",
       "    </tr>\n",
       "    <tr>\n",
       "      <th>40</th>\n",
       "      <td>Genre_Sports</td>\n",
       "      <td>0.118354</td>\n",
       "    </tr>\n",
       "    <tr>\n",
       "      <th>2510</th>\n",
       "      <td>Publisher_Nintendo</td>\n",
       "      <td>0.042514</td>\n",
       "    </tr>\n",
       "    <tr>\n",
       "      <th>1569</th>\n",
       "      <td>Developer_Rockstar North</td>\n",
       "      <td>0.026677</td>\n",
       "    </tr>\n",
       "  </tbody>\n",
       "</table>\n",
       "</div>\n",
       "      <button class=\"colab-df-convert\" onclick=\"convertToInteractive('df-1860c058-aec7-483a-b39c-20b59b34c2b0')\"\n",
       "              title=\"Convert this dataframe to an interactive table.\"\n",
       "              style=\"display:none;\">\n",
       "        \n",
       "  <svg xmlns=\"http://www.w3.org/2000/svg\" height=\"24px\"viewBox=\"0 0 24 24\"\n",
       "       width=\"24px\">\n",
       "    <path d=\"M0 0h24v24H0V0z\" fill=\"none\"/>\n",
       "    <path d=\"M18.56 5.44l.94 2.06.94-2.06 2.06-.94-2.06-.94-.94-2.06-.94 2.06-2.06.94zm-11 1L8.5 8.5l.94-2.06 2.06-.94-2.06-.94L8.5 2.5l-.94 2.06-2.06.94zm10 10l.94 2.06.94-2.06 2.06-.94-2.06-.94-.94-2.06-.94 2.06-2.06.94z\"/><path d=\"M17.41 7.96l-1.37-1.37c-.4-.4-.92-.59-1.43-.59-.52 0-1.04.2-1.43.59L10.3 9.45l-7.72 7.72c-.78.78-.78 2.05 0 2.83L4 21.41c.39.39.9.59 1.41.59.51 0 1.02-.2 1.41-.59l7.78-7.78 2.81-2.81c.8-.78.8-2.07 0-2.86zM5.41 20L4 18.59l7.72-7.72 1.47 1.35L5.41 20z\"/>\n",
       "  </svg>\n",
       "      </button>\n",
       "      \n",
       "  <style>\n",
       "    .colab-df-container {\n",
       "      display:flex;\n",
       "      flex-wrap:wrap;\n",
       "      gap: 12px;\n",
       "    }\n",
       "\n",
       "    .colab-df-convert {\n",
       "      background-color: #E8F0FE;\n",
       "      border: none;\n",
       "      border-radius: 50%;\n",
       "      cursor: pointer;\n",
       "      display: none;\n",
       "      fill: #1967D2;\n",
       "      height: 32px;\n",
       "      padding: 0 0 0 0;\n",
       "      width: 32px;\n",
       "    }\n",
       "\n",
       "    .colab-df-convert:hover {\n",
       "      background-color: #E2EBFA;\n",
       "      box-shadow: 0px 1px 2px rgba(60, 64, 67, 0.3), 0px 1px 3px 1px rgba(60, 64, 67, 0.15);\n",
       "      fill: #174EA6;\n",
       "    }\n",
       "\n",
       "    [theme=dark] .colab-df-convert {\n",
       "      background-color: #3B4455;\n",
       "      fill: #D2E3FC;\n",
       "    }\n",
       "\n",
       "    [theme=dark] .colab-df-convert:hover {\n",
       "      background-color: #434B5C;\n",
       "      box-shadow: 0px 1px 3px 1px rgba(0, 0, 0, 0.15);\n",
       "      filter: drop-shadow(0px 1px 2px rgba(0, 0, 0, 0.3));\n",
       "      fill: #FFFFFF;\n",
       "    }\n",
       "  </style>\n",
       "\n",
       "      <script>\n",
       "        const buttonEl =\n",
       "          document.querySelector('#df-1860c058-aec7-483a-b39c-20b59b34c2b0 button.colab-df-convert');\n",
       "        buttonEl.style.display =\n",
       "          google.colab.kernel.accessAllowed ? 'block' : 'none';\n",
       "\n",
       "        async function convertToInteractive(key) {\n",
       "          const element = document.querySelector('#df-1860c058-aec7-483a-b39c-20b59b34c2b0');\n",
       "          const dataTable =\n",
       "            await google.colab.kernel.invokeFunction('convertToInteractive',\n",
       "                                                     [key], {});\n",
       "          if (!dataTable) return;\n",
       "\n",
       "          const docLinkHtml = 'Like what you see? Visit the ' +\n",
       "            '<a target=\"_blank\" href=https://colab.research.google.com/notebooks/data_table.ipynb>data table notebook</a>'\n",
       "            + ' to learn more about interactive tables.';\n",
       "          element.innerHTML = '';\n",
       "          dataTable['output_type'] = 'display_data';\n",
       "          await google.colab.output.renderOutput(dataTable, element);\n",
       "          const docLink = document.createElement('div');\n",
       "          docLink.innerHTML = docLinkHtml;\n",
       "          element.appendChild(docLink);\n",
       "        }\n",
       "      </script>\n",
       "    </div>\n",
       "  </div>\n",
       "  "
      ],
      "text/plain": [
       "                 Feature Names  Coefficients\n",
       "0                         Year      0.234723\n",
       "1303    Developer_Nintendo EAD      0.127091\n",
       "40                Genre_Sports      0.118354\n",
       "2510        Publisher_Nintendo      0.042514\n",
       "1569  Developer_Rockstar North      0.026677"
      ]
     },
     "execution_count": 137,
     "metadata": {},
     "output_type": "execute_result"
    }
   ],
   "source": [
    "importances = forest.feature_importances_\n",
    "feature_d = {'Feature Names' : X_train.columns, 'Coefficients' : importances}\n",
    "features = pd.DataFrame(data=feature_d)\n",
    "features = features.sort_values(by=['Coefficients'],ascending=False)\n",
    "features.head()"
   ]
  },
  {
   "cell_type": "markdown",
   "metadata": {
    "id": "FJHcok98ELsj"
   },
   "source": [
    "The coefficients of the forest model."
   ]
  },
  {
   "cell_type": "markdown",
   "metadata": {
    "id": "cDl39v2UhGSQ"
   },
   "source": [
    "## Improving the Linear Regression Model"
   ]
  },
  {
   "cell_type": "code",
   "execution_count": null,
   "metadata": {
    "id": "8SG_3vKYkcZR"
   },
   "outputs": [],
   "source": [
    "final = pd.read_csv('integratedvgsales.csv')\n",
    "final.loc[final['Year'] == 0, ['Year']] = np.nan"
   ]
  },
  {
   "cell_type": "markdown",
   "metadata": {
    "id": "sf-q9_5NhKyX"
   },
   "source": [
    "Dropping rows where there are multiple developers in a single row"
   ]
  },
  {
   "cell_type": "code",
   "execution_count": null,
   "metadata": {
    "id": "tXcbx_cT3eHp"
   },
   "outputs": [],
   "source": [
    "fixedfinal = final[~(final['Developer'].str.split('/').str.len() > 1)]"
   ]
  },
  {
   "cell_type": "code",
   "execution_count": null,
   "metadata": {
    "id": "aKfX2vULhWMP"
   },
   "outputs": [],
   "source": [
    "colsThree = ['Platform','Genre', 'Publisher', 'Developer']\n",
    "stuffThree = pd.get_dummies(fixedfinal, columns=colsThree, drop_first=True)\n",
    "XThree = stuffThree.drop(columns=['Rank','Name','NA_Sales','EU_Sales','JP_Sales','Other_Sales','Global_Sales'])\n",
    "yThree = fixedfinal['Global_Sales']"
   ]
  },
  {
   "cell_type": "code",
   "execution_count": null,
   "metadata": {
    "id": "zpLP99Q6hb_b"
   },
   "outputs": [],
   "source": [
    "X_train_three, X_test_three, y_train_three, y_test_three = train_test_split(XThree, yThree, test_size=0.2)\n",
    "X_train_three.fillna(X_train_three['Year'].median(), inplace = True)\n",
    "X_test_three.fillna(X_test_three['Year'].median(), inplace = True)"
   ]
  },
  {
   "cell_type": "code",
   "execution_count": null,
   "metadata": {
    "colab": {
     "base_uri": "https://localhost:8080/"
    },
    "id": "Ev03dlyMhf6y",
    "outputId": "a072f1c0-2b35-4ec8-ff87-9114840109a8"
   },
   "outputs": [
    {
     "data": {
      "text/plain": [
       "-1.6069966918069367e+19"
      ]
     },
     "execution_count": 26,
     "metadata": {},
     "output_type": "execute_result"
    }
   ],
   "source": [
    "linear_three = LinearRegression()\n",
    "linear_three.fit(X_train_three, y_train_three)\n",
    "linear_prediction_three = linear_three.predict(X_test_three)\n",
    "r2_score(y_test_three, linear_prediction_three)"
   ]
  },
  {
   "cell_type": "markdown",
   "metadata": {
    "id": "Il7sdJuDjUjg"
   },
   "source": [
    "Dropping those rows did not lead to better results\n",
    "\n",
    "Dropping rows where the feature Year is missing values was the next step"
   ]
  },
  {
   "cell_type": "code",
   "execution_count": null,
   "metadata": {
    "id": "hfCHbqDdVSa1"
   },
   "outputs": [],
   "source": [
    "finalYears = final[final['Year'].notna()]"
   ]
  },
  {
   "cell_type": "code",
   "execution_count": null,
   "metadata": {
    "id": "aiMUrelq5NI4"
   },
   "outputs": [],
   "source": [
    "colsThree = ['Platform','Genre', 'Publisher', 'Developer']\n",
    "stuffThree = pd.get_dummies(finalYears, columns=colsThree, drop_first=True)\n",
    "XThree = stuffThree.drop(columns=['Rank','Name','NA_Sales','EU_Sales','JP_Sales','Other_Sales','Global_Sales'])\n",
    "yThree = finalYears['Global_Sales']"
   ]
  },
  {
   "cell_type": "code",
   "execution_count": null,
   "metadata": {
    "id": "P014tCbg5UQM"
   },
   "outputs": [],
   "source": [
    "X_train_three, X_test_three, y_train_three, y_test_three = train_test_split(XThree, yThree, test_size=0.2)\n",
    "X_train_three.fillna(X_train_three['Year'].median(), inplace = True)\n",
    "X_test_three.fillna(X_test_three['Year'].median(), inplace = True)"
   ]
  },
  {
   "cell_type": "code",
   "execution_count": null,
   "metadata": {
    "colab": {
     "base_uri": "https://localhost:8080/"
    },
    "id": "f76VMqin5ZYc",
    "outputId": "0d9def43-fa47-4097-a81f-818c95bb9b46"
   },
   "outputs": [
    {
     "data": {
      "text/plain": [
       "-5.62083840144244e+20"
      ]
     },
     "execution_count": 40,
     "metadata": {},
     "output_type": "execute_result"
    }
   ],
   "source": [
    "linear_three = LinearRegression()\n",
    "linear_three.fit(X_train_three, y_train_three)\n",
    "linear_prediction_three = linear_three.predict(X_test_three)\n",
    "r2_score(y_test_three, linear_prediction_three)"
   ]
  },
  {
   "cell_type": "markdown",
   "metadata": {
    "id": "8QTnnlrGjtcX"
   },
   "source": [
    "Doing so did not lead to better results either\n",
    "\n",
    "Next step was using mean to impute missing values for Year instead of median"
   ]
  },
  {
   "cell_type": "code",
   "execution_count": null,
   "metadata": {
    "id": "WHCFWdGUpHbq"
   },
   "outputs": [],
   "source": [
    "colsThree = ['Platform','Genre', 'Publisher', 'Developer']\n",
    "stuffThree = pd.get_dummies(final, columns=colsThree, drop_first=True)\n",
    "XThree = stuffThree.drop(columns=['Rank','Name','NA_Sales','EU_Sales','JP_Sales','Other_Sales','Global_Sales'])\n",
    "yThree = final['Global_Sales']"
   ]
  },
  {
   "cell_type": "code",
   "execution_count": null,
   "metadata": {
    "id": "7rjaQ2qapNq6"
   },
   "outputs": [],
   "source": [
    "X_train_three, X_test_three, y_train_three, y_test_three = train_test_split(XThree, yThree, test_size=0.2)\n",
    "X_train_three.fillna(X_train_three['Year'].mean(), inplace = True)\n",
    "X_test_three.fillna(X_test_three['Year'].mean(), inplace = True)"
   ]
  },
  {
   "cell_type": "code",
   "execution_count": null,
   "metadata": {
    "colab": {
     "base_uri": "https://localhost:8080/"
    },
    "id": "INfKNT9DpQ4N",
    "outputId": "409915b2-4ba4-4a8f-9e69-9ac878f906cb"
   },
   "outputs": [
    {
     "data": {
      "text/plain": [
       "-6.885382213614298e+18"
      ]
     },
     "execution_count": 54,
     "metadata": {},
     "output_type": "execute_result"
    }
   ],
   "source": [
    "linear_three = LinearRegression()\n",
    "linear_three.fit(X_train_three, y_train_three)\n",
    "linear_prediction_three = linear_three.predict(X_test_three)\n",
    "r2_score(y_test_three, linear_prediction_three)"
   ]
  },
  {
   "cell_type": "markdown",
   "metadata": {
    "id": "Ax9FmN-plAsz"
   },
   "source": [
    "Doing so did not improve the model either\n",
    "\n",
    "Next, we decided to see if dropping the Developer feature would improve the model"
   ]
  },
  {
   "cell_type": "code",
   "execution_count": null,
   "metadata": {
    "id": "fAFrz0u7k7nk"
   },
   "outputs": [],
   "source": [
    "colsThree = ['Platform','Genre', 'Publisher']\n",
    "stuffThree = pd.get_dummies(final, columns=colsThree, drop_first=True)\n",
    "XThree = stuffThree.drop(columns=['Rank','Name','NA_Sales','EU_Sales','JP_Sales','Other_Sales','Global_Sales', 'Developer'])\n",
    "yThree = final['Global_Sales']"
   ]
  },
  {
   "cell_type": "code",
   "execution_count": null,
   "metadata": {
    "id": "XPqQz1KZljdq"
   },
   "outputs": [],
   "source": [
    "X_train_three, X_test_three, y_train_three, y_test_three = train_test_split(XThree, yThree, test_size=0.2)\n",
    "X_train_three.fillna(X_train_three['Year'].median(), inplace = True)\n",
    "X_test_three.fillna(X_test_three['Year'].median(), inplace = True)"
   ]
  },
  {
   "cell_type": "code",
   "execution_count": null,
   "metadata": {
    "colab": {
     "base_uri": "https://localhost:8080/"
    },
    "id": "RK5jmlN3ll7Z",
    "outputId": "cfaaf2e2-1236-45b8-a6af-4a2321c3c08c"
   },
   "outputs": [
    {
     "data": {
      "text/plain": [
       "-8.668996313356939e+16"
      ]
     },
     "execution_count": 60,
     "metadata": {},
     "output_type": "execute_result"
    }
   ],
   "source": [
    "linear_three = LinearRegression()\n",
    "linear_three.fit(X_train_three, y_train_three)\n",
    "linear_prediction_three = linear_three.predict(X_test_three)\n",
    "r2_score(y_test_three, linear_prediction_three)"
   ]
  },
  {
   "cell_type": "markdown",
   "metadata": {
    "id": "j0A2GmtUlYA8"
   },
   "source": [
    "The model did not improve here either\n",
    "\n",
    "Removing both Developer and Publisher led to better results, as was shown before"
   ]
  },
  {
   "cell_type": "code",
   "execution_count": null,
   "metadata": {
    "id": "whjrznrE6l0d"
   },
   "outputs": [],
   "source": [
    "colsThree = ['Platform','Genre']\n",
    "stuffThree = pd.get_dummies(final, columns=colsThree, drop_first=True)\n",
    "XThree = stuffThree.drop(columns=['Rank','Name','NA_Sales','EU_Sales','JP_Sales','Other_Sales','Global_Sales', 'Developer', 'Publisher'])\n",
    "yThree = final['Global_Sales']"
   ]
  },
  {
   "cell_type": "code",
   "execution_count": null,
   "metadata": {
    "id": "-Efya_vYXU7n"
   },
   "outputs": [],
   "source": [
    "X_train_three, X_test_three, y_train_three, y_test_three = train_test_split(XThree, yThree, test_size=0.2)\n",
    "X_train_three.fillna(X_train_three['Year'].median(), inplace = True)\n",
    "X_test_three.fillna(X_test_three['Year'].median(), inplace = True)"
   ]
  },
  {
   "cell_type": "code",
   "execution_count": null,
   "metadata": {
    "colab": {
     "base_uri": "https://localhost:8080/"
    },
    "id": "mzRW-w8OXWjn",
    "outputId": "2b2f6d3d-79ea-4914-c727-b0fb9dcf655b"
   },
   "outputs": [
    {
     "data": {
      "text/plain": [
       "0.08361267757649982"
      ]
     },
     "execution_count": 66,
     "metadata": {},
     "output_type": "execute_result"
    }
   ],
   "source": [
    "linear_three = LinearRegression()\n",
    "linear_three.fit(X_train_three, y_train_three)\n",
    "linear_prediction_three = linear_three.predict(X_test_three)\n",
    "r2_score(y_test_three, linear_prediction_three)"
   ]
  },
  {
   "cell_type": "code",
   "execution_count": null,
   "metadata": {
    "id": "X_8v_vf8g1k1"
   },
   "outputs": [],
   "source": [
    "df = pd.read_csv('integratedvgsales.csv')"
   ]
  },
  {
   "cell_type": "markdown",
   "metadata": {
    "id": "jELNyxo8lupu"
   },
   "source": [
    "Dropping the Year feature, in addition to Developer and Publisher, led to worse results than just dropping Developer and Publisher"
   ]
  },
  {
   "cell_type": "code",
   "execution_count": null,
   "metadata": {
    "id": "fqJPFSQhXikB"
   },
   "outputs": [],
   "source": [
    "# df.loc[df['Year'] == 0, 'Year'] = np.nan\n",
    "cols = ['Platform','Genre']\n",
    "stuff = pd.get_dummies(df, columns=cols, drop_first=True)\n",
    "X = stuff.drop(columns=['Rank','Name','NA_Sales','EU_Sales','JP_Sales','Other_Sales','Global_Sales', 'Developer', 'Publisher', 'Year'])\n",
    "y = df['Global_Sales']"
   ]
  },
  {
   "cell_type": "code",
   "execution_count": null,
   "metadata": {
    "id": "FK4xJXS0CLL_"
   },
   "outputs": [],
   "source": [
    "X_train, X_test, y_train, y_test = train_test_split(X, y, test_size=0.2)"
   ]
  },
  {
   "cell_type": "code",
   "execution_count": null,
   "metadata": {
    "colab": {
     "base_uri": "https://localhost:8080/"
    },
    "id": "jkoIKcv9CiWQ",
    "outputId": "6484b723-002b-4b01-f787-ae4027a69838"
   },
   "outputs": [
    {
     "data": {
      "text/plain": [
       "0.030550965151906695"
      ]
     },
     "execution_count": 76,
     "metadata": {},
     "output_type": "execute_result"
    }
   ],
   "source": [
    "linear = LinearRegression()\n",
    "linear.fit(X_train, y_train)\n",
    "linear_prediction = linear.predict(X_test)\n",
    "r2_score(y_test, linear_prediction)"
   ]
  },
  {
   "cell_type": "markdown",
   "metadata": {
    "id": "QVLvjaPPKbGn"
   },
   "source": [
    "Game Recommendation System：\n",
    "  Second part of Video Games Project is Game Recommendation System. The\n",
    "  Game Recommendation System is based on the K-mean algorithm.\n",
    "  "
   ]
  },
  {
   "cell_type": "code",
   "execution_count": null,
   "metadata": {
    "colab": {
     "base_uri": "https://localhost:8080/",
     "height": 190
    },
    "id": "PAIMkNoH1r3b",
    "outputId": "be26ef04-34c4-459c-b365-38550b5c873f"
   },
   "outputs": [],
   "source": [
    "gameP = pd.read_csv('vgsales-12-4-2019.csv')\n",
    "gameP.fillna(0,inplace=True)"
   ]
  },
  {
   "cell_type": "markdown",
   "metadata": {
    "id": "Dr2STkfQ3AXD"
   },
   "source": [
    "In K-mean algrithm, the clusters are created by the terms. In the dataset, 'Genre' is not enough for the number of terms. 'Developer' and 'Platform' are choosen as parts of terms to raise the accurancy of K-mean"
   ]
  },
  {
   "cell_type": "code",
   "execution_count": null,
   "metadata": {
    "id": "VGGP0Vdx2Xg4"
   },
   "outputs": [],
   "source": [
    "Year=(gameP['Year']-gameP['Year']%10).astype(int).astype(str)+'s'\n",
    "gameP['terms']=(gameP['Genre'].astype(str)+' |'+gameP['Developer'].astype(str)+' |'+gameP['Platform'].astype(str)+' |'+Year).str.split(\"|\")\n",
    "game_term=gameP.set_index(['Name'])['terms'].apply(pd.Series).stack().reset_index()\n",
    "game_term.head(10)"
   ]
  },
  {
   "cell_type": "markdown",
   "metadata": {
    "id": "e2LRCAmt3nd5"
   },
   "source": [
    "There're some terms that appear once in the dataset,  they should be filtered for accuracy. The list of terms will be transferred to a matrix for Tf-idf process. "
   ]
  },
  {
   "cell_type": "code",
   "execution_count": null,
   "metadata": {
    "id": "fN5qyrxZ3xY_"
   },
   "outputs": [],
   "source": [
    "game_term.columns=['name','term_number','terms']\n",
    "number_of_terms = 200\n",
    "top_terms = list(game_term['terms'].value_counts()[0:200].index)\n",
    "game_term = game_term[game_term['terms'].isin(top_terms)]\n",
    "features = pd.crosstab(index=game_term['name'],columns=game_term['terms'])\n",
    "features.head()"
   ]
  },
  {
   "cell_type": "markdown",
   "metadata": {
    "id": "XZtQPSgX5HSc"
   },
   "source": [
    "Tf-Idf is an important part for K-mean algrithm. It can give the results of how important a term is to a game.\n",
    "There're three steps for Tf-idf. First, the dataset will be processed as tf(x)=(Number of times term t appears in a game)/(Total number of terms in the game)"
   ]
  },
  {
   "cell_type": "code",
   "execution_count": null,
   "metadata": {
    "id": "vxocRnFq4222"
   },
   "outputs": [],
   "source": [
    "features = pd.crosstab(index=game_term['name'],columns=game_term['terms'])\n",
    "features.head()\n",
    "total_terms = features.sum(axis=1)\n",
    "features_tf = features.div(total_terms, axis=0)\n",
    "features_tf.head()"
   ]
  },
  {
   "cell_type": "markdown",
   "metadata": {
    "id": "_Y7kGQuz6bpd"
   },
   "source": [
    "Then the dataset will be processed as idf(x)=ln(total number of games)/ (Number of games containing term). Then Tf and Idf dataset will be combined by the cosine similarity matrix. To get the result, the dataset will be diveded each row by its norm them take the product of the matrix"
   ]
  },
  {
   "cell_type": "code",
   "execution_count": null,
   "metadata": {
    "id": "AWYE90aS6bFF"
   },
   "outputs": [],
   "source": [
    "game_for_each_term = pd.DataFrame(features.sum())\n",
    "game_for_each_term['name'] = len(features.index)\n",
    "game_for_each_term.head()\n",
    "game_for_each_term['idf'] = np.log(game_for_each_term['name']/game_for_each_term[0])\n",
    "idf = game_for_each_term['idf']\n",
    "features_tf_idf = features_tf.multiply(idf)\n",
    "features_tf_idf.head()"
   ]
  },
  {
   "cell_type": "markdown",
   "metadata": {
    "id": "WDprLdF57L1S"
   },
   "source": [
    "The conclusion can be given in the matrix that for the games each other more large the number they get, the more similar they are."
   ]
  },
  {
   "cell_type": "code",
   "execution_count": null,
   "metadata": {
    "id": "p2Bf3ZEC6HAz"
   },
   "outputs": [],
   "source": [
    "matrix_rows_normed = features_tf_idf.div(np.sqrt(np.square(features_tf_idf).sum(axis=1)),axis=0)\n",
    "cosine_similarity = matrix_rows_normed.dot(matrix_rows_normed.T)\n",
    "cosine_similarity.head()"
   ]
  },
  {
   "cell_type": "markdown",
   "metadata": {
    "id": "LBgKcrrM7qGf"
   },
   "source": [
    "Then the matrix can be applied to K-means. Before the K-means starts, the number of the cluster should be set. The number in this project is 100. Because of the number of terms, lower cluster numbers can't give a specific feedback model. On the other hand, Higher cluster numbers are going to take more time to train the model which is unnecessary."
   ]
  },
  {
   "cell_type": "code",
   "execution_count": null,
   "metadata": {
    "id": "T1bsuUHlBHfQ"
   },
   "outputs": [],
   "source": [
    "from sklearn.cluster import KMeans\n",
    "number_of_clusters = 100\n",
    "kmeans = KMeans(n_clusters=number_of_clusters, random_state=0).fit(np.array(cosine_similarity))\n",
    "features['cluster'] = kmeans.labels_\n",
    "cluster = features[['cluster']]\n"
   ]
  },
  {
   "cell_type": "markdown",
   "metadata": {
    "id": "RTMAjiM0BVRs"
   },
   "source": [
    "In the end, sort the game by the Critic Score for each cluster. Hence base on the game user enter, the list will be the order of recommend games' critic score."
   ]
  },
  {
   "cell_type": "code",
   "execution_count": null,
   "metadata": {
    "id": "RxO7DRmlBT0H"
   },
   "outputs": [],
   "source": [
    "gameP['cluster']=cluster\n",
    "gameP.fillna(0, inplace=True)\n",
    "clusters=gameP[['Critic_Score','cluster']].sort_values(['cluster','Critic_Score'],ascending=False)\n"
   ]
  },
  {
   "cell_type": "markdown",
   "metadata": {
    "id": "-ZLoDnTAB96Z"
   },
   "source": [
    "The website is also completed, it supports users entering the game name and giving back a list of recommended games. When the user is typing the game name, the website will show the support game in the dataset. Users also can click the game name directly instead of clicking the button \"Submit\".(Unfortunately, this function doesn't work on the preview website but IDE only.)\n",
    "Here's a preview of website\n",
    "https://htmlpreview.github.io/?https://github.com/PlanetesEmp/Game/blob/main/index.html\n",
    "![Game Recommend Website.png](data:image/png;base64,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)"
   ]
  },
  {
   "cell_type": "markdown",
   "metadata": {
    "id": "wiGlkBVKEKY_"
   },
   "source": [
    "There are also a lot of extra works waiting to do for game recommendation:\n",
    "1. In data cleaning, there're same name but different platform games are not processed. However, because the platform is a term for K-mean. So It also help people to choice game when they pay more attention to the platforms of game\n",
    "2. There're some java script bugs should be fixed such as the difference between preview and IDE. Some function works in IDE but failed in preview.\n",
    "3. More Genre is a big help to increase the accurancy of K-mean. We can find datasets with more genres and merge it with the orginal data."
   ]
  }
 ],
 "metadata": {
  "colab": {
   "collapsed_sections": [],
   "name": "Final Project Data Mining.ipynb",
   "provenance": []
  },
  "kernelspec": {
   "display_name": "Python 3 (ipykernel)",
   "language": "python",
   "name": "python3"
  },
  "language_info": {
   "codemirror_mode": {
    "name": "ipython",
    "version": 3
   },
   "file_extension": ".py",
   "mimetype": "text/x-python",
   "name": "python",
   "nbconvert_exporter": "python",
   "pygments_lexer": "ipython3",
   "version": "3.7.0"
  }
 },
 "nbformat": 4,
 "nbformat_minor": 1
}
